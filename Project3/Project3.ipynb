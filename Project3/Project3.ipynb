{
 "cells": [
  {
   "cell_type": "markdown",
   "metadata": {},
   "source": [
    "# CSM148 Project 3: Stroke Prediction"
   ]
  },
  {
   "cell_type": "code",
   "execution_count": 33,
   "metadata": {},
   "outputs": [],
   "source": [
    "import numpy as np\n",
    "import pandas as pd\n",
    "import matplotlib.pyplot as plt\n",
    "import seaborn as sns\n",
    "from sklearn.preprocessing import OrdinalEncoder\n",
    "import statsmodels.api as sm\n",
    "from sklearn.pipeline import Pipeline\n",
    "from sklearn.preprocessing import StandardScaler, OneHotEncoder, LabelEncoder\n",
    "from sklearn.base import BaseEstimator, TransformerMixin\n",
    "from sklearn.compose import ColumnTransformer, make_column_transformer\n",
    "from sklearn.impute import SimpleImputer, KNNImputer\n",
    "from sklearn.model_selection import train_test_split, cross_val_score\n",
    "from sklearn.linear_model import LogisticRegression\n",
    "from sklearn.metrics import accuracy_score, precision_score, recall_score, f1_score, plot_roc_curve\n",
    "from sklearn.metrics import confusion_matrix\n",
    "import itertools\n",
    "from sklearn.utils import resample\n",
    "from imblearn.over_sampling import SMOTE\n",
    "from imblearn.under_sampling import RandomUnderSampler\n",
    "from sklearn import model_selection\n",
    "from sklearn.model_selection import KFold\n",
    "from sklearn.model_selection import StratifiedKFold\n",
    "from sklearn.decomposition import PCA\n",
    "from sklearn import tree\n",
    "from sklearn.tree import DecisionTreeClassifier\n",
    "from sklearn.model_selection import GridSearchCV\n",
    "from imblearn.pipeline import Pipeline, make_pipeline\n",
    "from sklearn.ensemble import BaggingClassifier\n",
    "from sklearn.ensemble import RandomForestClassifier\n",
    "from sklearn.neural_network import MLPClassifier\n",
    "from sklearn.neighbors import KNeighborsClassifier\n",
    "from sklearn.svm import SVC\n"
   ]
  },
  {
   "cell_type": "code",
   "execution_count": 2,
   "metadata": {},
   "outputs": [],
   "source": [
    "# Helper function that allows you to draw nicely formatted confusion matrices\n",
    "def draw_confusion_matrix(y, yhat, classes):\n",
    "    '''\n",
    "        Draws a confusion matrix for the given target and predictions\n",
    "        Adapted from scikit-learn and discussion example.\n",
    "    '''\n",
    "    plt.cla()\n",
    "    plt.clf()\n",
    "    matrix = confusion_matrix(y, yhat)\n",
    "    plt.imshow(matrix, interpolation='nearest', cmap=plt.cm.Blues)\n",
    "    plt.title(\"Confusion Matrix\")\n",
    "    plt.colorbar()\n",
    "    num_classes = len(classes)\n",
    "    plt.xticks(np.arange(num_classes), classes, rotation=90)\n",
    "    plt.yticks(np.arange(num_classes), classes)\n",
    "    \n",
    "    fmt = 'd'\n",
    "    thresh = matrix.max() / 2.\n",
    "    for i, j in itertools.product(range(matrix.shape[0]), range(matrix.shape[1])):\n",
    "        plt.text(j, i, format(matrix[i, j], fmt),\n",
    "                 horizontalalignment=\"center\",\n",
    "                 color=\"white\" if matrix[i, j] > thresh else \"black\")\n",
    "\n",
    "    plt.ylabel('True label')\n",
    "    plt.xlabel('Predicted label')\n",
    "    plt.tight_layout()\n",
    "    plt.show()"
   ]
  },
  {
   "cell_type": "code",
   "execution_count": 29,
   "metadata": {},
   "outputs": [],
   "source": [
    "def print_metrics(y_test, preds):\n",
    "    print(\"%-12s %f\" % (\"Accuracy:\", accuracy_score(y_test, preds)))\n",
    "    print(\"%-12s %f\" % (\"Precision:\", precision_score(y_test, preds)))\n",
    "    print(\"%-12s %f\" % (\"Recall:\", recall_score(y_test, preds)))\n",
    "    print(\"%-12s %f\" % (\"F1 score:\", f1_score(y_test, preds)))"
   ]
  },
  {
   "cell_type": "markdown",
   "metadata": {},
   "source": [
    "## Load data & basic statistics"
   ]
  },
  {
   "cell_type": "code",
   "execution_count": 165,
   "metadata": {},
   "outputs": [
    {
     "data": {
      "text/html": [
       "<div>\n",
       "<style scoped>\n",
       "    .dataframe tbody tr th:only-of-type {\n",
       "        vertical-align: middle;\n",
       "    }\n",
       "\n",
       "    .dataframe tbody tr th {\n",
       "        vertical-align: top;\n",
       "    }\n",
       "\n",
       "    .dataframe thead th {\n",
       "        text-align: right;\n",
       "    }\n",
       "</style>\n",
       "<table border=\"1\" class=\"dataframe\">\n",
       "  <thead>\n",
       "    <tr style=\"text-align: right;\">\n",
       "      <th></th>\n",
       "      <th>id</th>\n",
       "      <th>gender</th>\n",
       "      <th>age</th>\n",
       "      <th>hypertension</th>\n",
       "      <th>heart_disease</th>\n",
       "      <th>ever_married</th>\n",
       "      <th>work_type</th>\n",
       "      <th>Residence_type</th>\n",
       "      <th>avg_glucose_level</th>\n",
       "      <th>bmi</th>\n",
       "      <th>smoking_status</th>\n",
       "      <th>stroke</th>\n",
       "    </tr>\n",
       "  </thead>\n",
       "  <tbody>\n",
       "    <tr>\n",
       "      <th>0</th>\n",
       "      <td>9046</td>\n",
       "      <td>Male</td>\n",
       "      <td>67.0</td>\n",
       "      <td>0</td>\n",
       "      <td>1</td>\n",
       "      <td>Yes</td>\n",
       "      <td>Private</td>\n",
       "      <td>Urban</td>\n",
       "      <td>228.69</td>\n",
       "      <td>36.6</td>\n",
       "      <td>formerly smoked</td>\n",
       "      <td>1</td>\n",
       "    </tr>\n",
       "    <tr>\n",
       "      <th>1</th>\n",
       "      <td>51676</td>\n",
       "      <td>Female</td>\n",
       "      <td>61.0</td>\n",
       "      <td>0</td>\n",
       "      <td>0</td>\n",
       "      <td>Yes</td>\n",
       "      <td>Self-employed</td>\n",
       "      <td>Rural</td>\n",
       "      <td>202.21</td>\n",
       "      <td>NaN</td>\n",
       "      <td>never smoked</td>\n",
       "      <td>1</td>\n",
       "    </tr>\n",
       "    <tr>\n",
       "      <th>2</th>\n",
       "      <td>31112</td>\n",
       "      <td>Male</td>\n",
       "      <td>80.0</td>\n",
       "      <td>0</td>\n",
       "      <td>1</td>\n",
       "      <td>Yes</td>\n",
       "      <td>Private</td>\n",
       "      <td>Rural</td>\n",
       "      <td>105.92</td>\n",
       "      <td>32.5</td>\n",
       "      <td>never smoked</td>\n",
       "      <td>1</td>\n",
       "    </tr>\n",
       "    <tr>\n",
       "      <th>3</th>\n",
       "      <td>60182</td>\n",
       "      <td>Female</td>\n",
       "      <td>49.0</td>\n",
       "      <td>0</td>\n",
       "      <td>0</td>\n",
       "      <td>Yes</td>\n",
       "      <td>Private</td>\n",
       "      <td>Urban</td>\n",
       "      <td>171.23</td>\n",
       "      <td>34.4</td>\n",
       "      <td>smokes</td>\n",
       "      <td>1</td>\n",
       "    </tr>\n",
       "    <tr>\n",
       "      <th>4</th>\n",
       "      <td>1665</td>\n",
       "      <td>Female</td>\n",
       "      <td>79.0</td>\n",
       "      <td>1</td>\n",
       "      <td>0</td>\n",
       "      <td>Yes</td>\n",
       "      <td>Self-employed</td>\n",
       "      <td>Rural</td>\n",
       "      <td>174.12</td>\n",
       "      <td>24.0</td>\n",
       "      <td>never smoked</td>\n",
       "      <td>1</td>\n",
       "    </tr>\n",
       "  </tbody>\n",
       "</table>\n",
       "</div>"
      ],
      "text/plain": [
       "      id  gender   age  hypertension  heart_disease ever_married  \\\n",
       "0   9046    Male  67.0             0              1          Yes   \n",
       "1  51676  Female  61.0             0              0          Yes   \n",
       "2  31112    Male  80.0             0              1          Yes   \n",
       "3  60182  Female  49.0             0              0          Yes   \n",
       "4   1665  Female  79.0             1              0          Yes   \n",
       "\n",
       "       work_type Residence_type  avg_glucose_level   bmi   smoking_status  \\\n",
       "0        Private          Urban             228.69  36.6  formerly smoked   \n",
       "1  Self-employed          Rural             202.21   NaN     never smoked   \n",
       "2        Private          Rural             105.92  32.5     never smoked   \n",
       "3        Private          Urban             171.23  34.4           smokes   \n",
       "4  Self-employed          Rural             174.12  24.0     never smoked   \n",
       "\n",
       "   stroke  \n",
       "0       1  \n",
       "1       1  \n",
       "2       1  \n",
       "3       1  \n",
       "4       1  "
      ]
     },
     "execution_count": 165,
     "metadata": {},
     "output_type": "execute_result"
    }
   ],
   "source": [
    "data = pd.read_csv(\"healthcare-dataset-stroke-data.csv\")\n",
    "data.head()"
   ]
  },
  {
   "cell_type": "code",
   "execution_count": 6,
   "metadata": {},
   "outputs": [
    {
     "data": {
      "text/html": [
       "<div>\n",
       "<style scoped>\n",
       "    .dataframe tbody tr th:only-of-type {\n",
       "        vertical-align: middle;\n",
       "    }\n",
       "\n",
       "    .dataframe tbody tr th {\n",
       "        vertical-align: top;\n",
       "    }\n",
       "\n",
       "    .dataframe thead th {\n",
       "        text-align: right;\n",
       "    }\n",
       "</style>\n",
       "<table border=\"1\" class=\"dataframe\">\n",
       "  <thead>\n",
       "    <tr style=\"text-align: right;\">\n",
       "      <th></th>\n",
       "      <th>id</th>\n",
       "      <th>age</th>\n",
       "      <th>hypertension</th>\n",
       "      <th>heart_disease</th>\n",
       "      <th>avg_glucose_level</th>\n",
       "      <th>bmi</th>\n",
       "      <th>stroke</th>\n",
       "    </tr>\n",
       "  </thead>\n",
       "  <tbody>\n",
       "    <tr>\n",
       "      <th>count</th>\n",
       "      <td>5110.000000</td>\n",
       "      <td>5110.000000</td>\n",
       "      <td>5110.000000</td>\n",
       "      <td>5110.000000</td>\n",
       "      <td>5110.000000</td>\n",
       "      <td>4909.000000</td>\n",
       "      <td>5110.000000</td>\n",
       "    </tr>\n",
       "    <tr>\n",
       "      <th>mean</th>\n",
       "      <td>36517.829354</td>\n",
       "      <td>43.226614</td>\n",
       "      <td>0.097456</td>\n",
       "      <td>0.054012</td>\n",
       "      <td>106.147677</td>\n",
       "      <td>28.893237</td>\n",
       "      <td>0.048728</td>\n",
       "    </tr>\n",
       "    <tr>\n",
       "      <th>std</th>\n",
       "      <td>21161.721625</td>\n",
       "      <td>22.612647</td>\n",
       "      <td>0.296607</td>\n",
       "      <td>0.226063</td>\n",
       "      <td>45.283560</td>\n",
       "      <td>7.854067</td>\n",
       "      <td>0.215320</td>\n",
       "    </tr>\n",
       "    <tr>\n",
       "      <th>min</th>\n",
       "      <td>67.000000</td>\n",
       "      <td>0.080000</td>\n",
       "      <td>0.000000</td>\n",
       "      <td>0.000000</td>\n",
       "      <td>55.120000</td>\n",
       "      <td>10.300000</td>\n",
       "      <td>0.000000</td>\n",
       "    </tr>\n",
       "    <tr>\n",
       "      <th>25%</th>\n",
       "      <td>17741.250000</td>\n",
       "      <td>25.000000</td>\n",
       "      <td>0.000000</td>\n",
       "      <td>0.000000</td>\n",
       "      <td>77.245000</td>\n",
       "      <td>23.500000</td>\n",
       "      <td>0.000000</td>\n",
       "    </tr>\n",
       "    <tr>\n",
       "      <th>50%</th>\n",
       "      <td>36932.000000</td>\n",
       "      <td>45.000000</td>\n",
       "      <td>0.000000</td>\n",
       "      <td>0.000000</td>\n",
       "      <td>91.885000</td>\n",
       "      <td>28.100000</td>\n",
       "      <td>0.000000</td>\n",
       "    </tr>\n",
       "    <tr>\n",
       "      <th>75%</th>\n",
       "      <td>54682.000000</td>\n",
       "      <td>61.000000</td>\n",
       "      <td>0.000000</td>\n",
       "      <td>0.000000</td>\n",
       "      <td>114.090000</td>\n",
       "      <td>33.100000</td>\n",
       "      <td>0.000000</td>\n",
       "    </tr>\n",
       "    <tr>\n",
       "      <th>max</th>\n",
       "      <td>72940.000000</td>\n",
       "      <td>82.000000</td>\n",
       "      <td>1.000000</td>\n",
       "      <td>1.000000</td>\n",
       "      <td>271.740000</td>\n",
       "      <td>97.600000</td>\n",
       "      <td>1.000000</td>\n",
       "    </tr>\n",
       "  </tbody>\n",
       "</table>\n",
       "</div>"
      ],
      "text/plain": [
       "                 id          age  hypertension  heart_disease  \\\n",
       "count   5110.000000  5110.000000   5110.000000    5110.000000   \n",
       "mean   36517.829354    43.226614      0.097456       0.054012   \n",
       "std    21161.721625    22.612647      0.296607       0.226063   \n",
       "min       67.000000     0.080000      0.000000       0.000000   \n",
       "25%    17741.250000    25.000000      0.000000       0.000000   \n",
       "50%    36932.000000    45.000000      0.000000       0.000000   \n",
       "75%    54682.000000    61.000000      0.000000       0.000000   \n",
       "max    72940.000000    82.000000      1.000000       1.000000   \n",
       "\n",
       "       avg_glucose_level          bmi       stroke  \n",
       "count        5110.000000  4909.000000  5110.000000  \n",
       "mean          106.147677    28.893237     0.048728  \n",
       "std            45.283560     7.854067     0.215320  \n",
       "min            55.120000    10.300000     0.000000  \n",
       "25%            77.245000    23.500000     0.000000  \n",
       "50%            91.885000    28.100000     0.000000  \n",
       "75%           114.090000    33.100000     0.000000  \n",
       "max           271.740000    97.600000     1.000000  "
      ]
     },
     "execution_count": 6,
     "metadata": {},
     "output_type": "execute_result"
    }
   ],
   "source": [
    "data.describe()"
   ]
  },
  {
   "cell_type": "code",
   "execution_count": 680,
   "metadata": {},
   "outputs": [
    {
     "name": "stdout",
     "output_type": "stream",
     "text": [
      "<class 'pandas.core.frame.DataFrame'>\n",
      "RangeIndex: 5110 entries, 0 to 5109\n",
      "Data columns (total 12 columns):\n",
      " #   Column             Non-Null Count  Dtype  \n",
      "---  ------             --------------  -----  \n",
      " 0   id                 5110 non-null   int64  \n",
      " 1   gender             5110 non-null   object \n",
      " 2   age                5110 non-null   float64\n",
      " 3   hypertension       5110 non-null   int64  \n",
      " 4   heart_disease      5110 non-null   int64  \n",
      " 5   ever_married       5110 non-null   object \n",
      " 6   work_type          5110 non-null   object \n",
      " 7   Residence_type     5110 non-null   object \n",
      " 8   avg_glucose_level  5110 non-null   float64\n",
      " 9   bmi                4909 non-null   float64\n",
      " 10  smoking_status     5110 non-null   object \n",
      " 11  stroke             5110 non-null   int64  \n",
      "dtypes: float64(3), int64(4), object(5)\n",
      "memory usage: 479.2+ KB\n"
     ]
    }
   ],
   "source": [
    "data.info()"
   ]
  },
  {
   "cell_type": "code",
   "execution_count": 166,
   "metadata": {},
   "outputs": [
    {
     "data": {
      "text/html": [
       "<div>\n",
       "<style scoped>\n",
       "    .dataframe tbody tr th:only-of-type {\n",
       "        vertical-align: middle;\n",
       "    }\n",
       "\n",
       "    .dataframe tbody tr th {\n",
       "        vertical-align: top;\n",
       "    }\n",
       "\n",
       "    .dataframe thead th {\n",
       "        text-align: right;\n",
       "    }\n",
       "</style>\n",
       "<table border=\"1\" class=\"dataframe\">\n",
       "  <thead>\n",
       "    <tr style=\"text-align: right;\">\n",
       "      <th></th>\n",
       "      <th>gender</th>\n",
       "      <th>age</th>\n",
       "      <th>hypertension</th>\n",
       "      <th>heart_disease</th>\n",
       "      <th>ever_married</th>\n",
       "      <th>work_type</th>\n",
       "      <th>Residence_type</th>\n",
       "      <th>avg_glucose_level</th>\n",
       "      <th>bmi</th>\n",
       "      <th>smoking_status</th>\n",
       "      <th>stroke</th>\n",
       "    </tr>\n",
       "  </thead>\n",
       "  <tbody>\n",
       "    <tr>\n",
       "      <th>0</th>\n",
       "      <td>Male</td>\n",
       "      <td>67.0</td>\n",
       "      <td>0</td>\n",
       "      <td>1</td>\n",
       "      <td>Yes</td>\n",
       "      <td>Private</td>\n",
       "      <td>Urban</td>\n",
       "      <td>228.69</td>\n",
       "      <td>36.6</td>\n",
       "      <td>formerly smoked</td>\n",
       "      <td>1</td>\n",
       "    </tr>\n",
       "    <tr>\n",
       "      <th>1</th>\n",
       "      <td>Female</td>\n",
       "      <td>61.0</td>\n",
       "      <td>0</td>\n",
       "      <td>0</td>\n",
       "      <td>Yes</td>\n",
       "      <td>Self-employed</td>\n",
       "      <td>Rural</td>\n",
       "      <td>202.21</td>\n",
       "      <td>NaN</td>\n",
       "      <td>never smoked</td>\n",
       "      <td>1</td>\n",
       "    </tr>\n",
       "    <tr>\n",
       "      <th>2</th>\n",
       "      <td>Male</td>\n",
       "      <td>80.0</td>\n",
       "      <td>0</td>\n",
       "      <td>1</td>\n",
       "      <td>Yes</td>\n",
       "      <td>Private</td>\n",
       "      <td>Rural</td>\n",
       "      <td>105.92</td>\n",
       "      <td>32.5</td>\n",
       "      <td>never smoked</td>\n",
       "      <td>1</td>\n",
       "    </tr>\n",
       "    <tr>\n",
       "      <th>3</th>\n",
       "      <td>Female</td>\n",
       "      <td>49.0</td>\n",
       "      <td>0</td>\n",
       "      <td>0</td>\n",
       "      <td>Yes</td>\n",
       "      <td>Private</td>\n",
       "      <td>Urban</td>\n",
       "      <td>171.23</td>\n",
       "      <td>34.4</td>\n",
       "      <td>smokes</td>\n",
       "      <td>1</td>\n",
       "    </tr>\n",
       "    <tr>\n",
       "      <th>4</th>\n",
       "      <td>Female</td>\n",
       "      <td>79.0</td>\n",
       "      <td>1</td>\n",
       "      <td>0</td>\n",
       "      <td>Yes</td>\n",
       "      <td>Self-employed</td>\n",
       "      <td>Rural</td>\n",
       "      <td>174.12</td>\n",
       "      <td>24.0</td>\n",
       "      <td>never smoked</td>\n",
       "      <td>1</td>\n",
       "    </tr>\n",
       "  </tbody>\n",
       "</table>\n",
       "</div>"
      ],
      "text/plain": [
       "   gender   age  hypertension  heart_disease ever_married      work_type  \\\n",
       "0    Male  67.0             0              1          Yes        Private   \n",
       "1  Female  61.0             0              0          Yes  Self-employed   \n",
       "2    Male  80.0             0              1          Yes        Private   \n",
       "3  Female  49.0             0              0          Yes        Private   \n",
       "4  Female  79.0             1              0          Yes  Self-employed   \n",
       "\n",
       "  Residence_type  avg_glucose_level   bmi   smoking_status  stroke  \n",
       "0          Urban             228.69  36.6  formerly smoked       1  \n",
       "1          Rural             202.21   NaN     never smoked       1  \n",
       "2          Rural             105.92  32.5     never smoked       1  \n",
       "3          Urban             171.23  34.4           smokes       1  \n",
       "4          Rural             174.12  24.0     never smoked       1  "
      ]
     },
     "execution_count": 166,
     "metadata": {},
     "output_type": "execute_result"
    }
   ],
   "source": [
    "data.drop(\"id\", axis=1, inplace=True)\n",
    "data.head()"
   ]
  },
  {
   "cell_type": "code",
   "execution_count": 682,
   "metadata": {},
   "outputs": [
    {
     "data": {
      "image/png": "[encoded data removed]",
      "text/plain": [
       "<Figure size 720x432 with 2 Axes>"
      ]
     },
     "metadata": {
      "needs_background": "light"
     },
     "output_type": "display_data"
    }
   ],
   "source": [
    "corr = data.corr()\n",
    "plt.figure(figsize=(10,6))\n",
    "mask = np.triu(np.ones_like(corr, dtype=bool))\n",
    "heatmap = sns.heatmap(corr, mask=mask, vmin=-1, vmax=1, annot=True, cmap='BrBG')\n",
    "heatmap.set_title(\"Correlation Heatmap\")\n",
    "plt.show()"
   ]
  },
  {
   "cell_type": "markdown",
   "metadata": {},
   "source": [
    "Temporarily encode categoricals to run OLS and produce another correlation matrix considering all features."
   ]
  },
  {
   "cell_type": "code",
   "execution_count": 180,
   "metadata": {},
   "outputs": [],
   "source": [
    "data_copy = data.drop(['gender', 'ever_married', 'work_type', 'Residence_type', 'smoking_status'], axis=1, inplace=False)\n",
    "cat_features = ['ever_married', 'Residence_type', 'gender', 'work_type', 'smoking_status']\n",
    "for cat in cat_features:\n",
    "    enc = pd.DataFrame(OrdinalEncoder().fit_transform(data[[cat]]), columns=['{}_enc'.format(cat)])\n",
    "    data_copy = data_copy.join(enc, how='right')"
   ]
  },
  {
   "cell_type": "code",
   "execution_count": 181,
   "metadata": {},
   "outputs": [
    {
     "data": {
      "text/html": [
       "<div>\n",
       "<style scoped>\n",
       "    .dataframe tbody tr th:only-of-type {\n",
       "        vertical-align: middle;\n",
       "    }\n",
       "\n",
       "    .dataframe tbody tr th {\n",
       "        vertical-align: top;\n",
       "    }\n",
       "\n",
       "    .dataframe thead th {\n",
       "        text-align: right;\n",
       "    }\n",
       "</style>\n",
       "<table border=\"1\" class=\"dataframe\">\n",
       "  <thead>\n",
       "    <tr style=\"text-align: right;\">\n",
       "      <th></th>\n",
       "      <th>age</th>\n",
       "      <th>hypertension</th>\n",
       "      <th>heart_disease</th>\n",
       "      <th>avg_glucose_level</th>\n",
       "      <th>bmi</th>\n",
       "      <th>ever_married_enc</th>\n",
       "      <th>Residence_type_enc</th>\n",
       "      <th>gender_enc</th>\n",
       "      <th>work_type_enc</th>\n",
       "      <th>smoking_status_enc</th>\n",
       "      <th>stroke_new</th>\n",
       "    </tr>\n",
       "  </thead>\n",
       "  <tbody>\n",
       "    <tr>\n",
       "      <th>0</th>\n",
       "      <td>67.0</td>\n",
       "      <td>0</td>\n",
       "      <td>1</td>\n",
       "      <td>228.69</td>\n",
       "      <td>36.6</td>\n",
       "      <td>1.0</td>\n",
       "      <td>1.0</td>\n",
       "      <td>1.0</td>\n",
       "      <td>2.0</td>\n",
       "      <td>1.0</td>\n",
       "      <td>1</td>\n",
       "    </tr>\n",
       "    <tr>\n",
       "      <th>1</th>\n",
       "      <td>61.0</td>\n",
       "      <td>0</td>\n",
       "      <td>0</td>\n",
       "      <td>202.21</td>\n",
       "      <td>NaN</td>\n",
       "      <td>1.0</td>\n",
       "      <td>0.0</td>\n",
       "      <td>0.0</td>\n",
       "      <td>3.0</td>\n",
       "      <td>2.0</td>\n",
       "      <td>1</td>\n",
       "    </tr>\n",
       "    <tr>\n",
       "      <th>2</th>\n",
       "      <td>80.0</td>\n",
       "      <td>0</td>\n",
       "      <td>1</td>\n",
       "      <td>105.92</td>\n",
       "      <td>32.5</td>\n",
       "      <td>1.0</td>\n",
       "      <td>0.0</td>\n",
       "      <td>1.0</td>\n",
       "      <td>2.0</td>\n",
       "      <td>2.0</td>\n",
       "      <td>1</td>\n",
       "    </tr>\n",
       "    <tr>\n",
       "      <th>3</th>\n",
       "      <td>49.0</td>\n",
       "      <td>0</td>\n",
       "      <td>0</td>\n",
       "      <td>171.23</td>\n",
       "      <td>34.4</td>\n",
       "      <td>1.0</td>\n",
       "      <td>1.0</td>\n",
       "      <td>0.0</td>\n",
       "      <td>2.0</td>\n",
       "      <td>3.0</td>\n",
       "      <td>1</td>\n",
       "    </tr>\n",
       "    <tr>\n",
       "      <th>4</th>\n",
       "      <td>79.0</td>\n",
       "      <td>1</td>\n",
       "      <td>0</td>\n",
       "      <td>174.12</td>\n",
       "      <td>24.0</td>\n",
       "      <td>1.0</td>\n",
       "      <td>0.0</td>\n",
       "      <td>0.0</td>\n",
       "      <td>3.0</td>\n",
       "      <td>2.0</td>\n",
       "      <td>1</td>\n",
       "    </tr>\n",
       "    <tr>\n",
       "      <th>...</th>\n",
       "      <td>...</td>\n",
       "      <td>...</td>\n",
       "      <td>...</td>\n",
       "      <td>...</td>\n",
       "      <td>...</td>\n",
       "      <td>...</td>\n",
       "      <td>...</td>\n",
       "      <td>...</td>\n",
       "      <td>...</td>\n",
       "      <td>...</td>\n",
       "      <td>...</td>\n",
       "    </tr>\n",
       "    <tr>\n",
       "      <th>5105</th>\n",
       "      <td>80.0</td>\n",
       "      <td>1</td>\n",
       "      <td>0</td>\n",
       "      <td>83.75</td>\n",
       "      <td>NaN</td>\n",
       "      <td>1.0</td>\n",
       "      <td>1.0</td>\n",
       "      <td>0.0</td>\n",
       "      <td>2.0</td>\n",
       "      <td>2.0</td>\n",
       "      <td>0</td>\n",
       "    </tr>\n",
       "    <tr>\n",
       "      <th>5106</th>\n",
       "      <td>81.0</td>\n",
       "      <td>0</td>\n",
       "      <td>0</td>\n",
       "      <td>125.20</td>\n",
       "      <td>40.0</td>\n",
       "      <td>1.0</td>\n",
       "      <td>1.0</td>\n",
       "      <td>0.0</td>\n",
       "      <td>3.0</td>\n",
       "      <td>2.0</td>\n",
       "      <td>0</td>\n",
       "    </tr>\n",
       "    <tr>\n",
       "      <th>5107</th>\n",
       "      <td>35.0</td>\n",
       "      <td>0</td>\n",
       "      <td>0</td>\n",
       "      <td>82.99</td>\n",
       "      <td>30.6</td>\n",
       "      <td>1.0</td>\n",
       "      <td>0.0</td>\n",
       "      <td>0.0</td>\n",
       "      <td>3.0</td>\n",
       "      <td>2.0</td>\n",
       "      <td>0</td>\n",
       "    </tr>\n",
       "    <tr>\n",
       "      <th>5108</th>\n",
       "      <td>51.0</td>\n",
       "      <td>0</td>\n",
       "      <td>0</td>\n",
       "      <td>166.29</td>\n",
       "      <td>25.6</td>\n",
       "      <td>1.0</td>\n",
       "      <td>0.0</td>\n",
       "      <td>1.0</td>\n",
       "      <td>2.0</td>\n",
       "      <td>1.0</td>\n",
       "      <td>0</td>\n",
       "    </tr>\n",
       "    <tr>\n",
       "      <th>5109</th>\n",
       "      <td>44.0</td>\n",
       "      <td>0</td>\n",
       "      <td>0</td>\n",
       "      <td>85.28</td>\n",
       "      <td>26.2</td>\n",
       "      <td>1.0</td>\n",
       "      <td>1.0</td>\n",
       "      <td>0.0</td>\n",
       "      <td>0.0</td>\n",
       "      <td>0.0</td>\n",
       "      <td>0</td>\n",
       "    </tr>\n",
       "  </tbody>\n",
       "</table>\n",
       "<p>5110 rows × 11 columns</p>\n",
       "</div>"
      ],
      "text/plain": [
       "       age  hypertension  heart_disease  avg_glucose_level   bmi  \\\n",
       "0     67.0             0              1             228.69  36.6   \n",
       "1     61.0             0              0             202.21   NaN   \n",
       "2     80.0             0              1             105.92  32.5   \n",
       "3     49.0             0              0             171.23  34.4   \n",
       "4     79.0             1              0             174.12  24.0   \n",
       "...    ...           ...            ...                ...   ...   \n",
       "5105  80.0             1              0              83.75   NaN   \n",
       "5106  81.0             0              0             125.20  40.0   \n",
       "5107  35.0             0              0              82.99  30.6   \n",
       "5108  51.0             0              0             166.29  25.6   \n",
       "5109  44.0             0              0              85.28  26.2   \n",
       "\n",
       "      ever_married_enc  Residence_type_enc  gender_enc  work_type_enc  \\\n",
       "0                  1.0                 1.0         1.0            2.0   \n",
       "1                  1.0                 0.0         0.0            3.0   \n",
       "2                  1.0                 0.0         1.0            2.0   \n",
       "3                  1.0                 1.0         0.0            2.0   \n",
       "4                  1.0                 0.0         0.0            3.0   \n",
       "...                ...                 ...         ...            ...   \n",
       "5105               1.0                 1.0         0.0            2.0   \n",
       "5106               1.0                 1.0         0.0            3.0   \n",
       "5107               1.0                 0.0         0.0            3.0   \n",
       "5108               1.0                 0.0         1.0            2.0   \n",
       "5109               1.0                 1.0         0.0            0.0   \n",
       "\n",
       "      smoking_status_enc  stroke_new  \n",
       "0                    1.0           1  \n",
       "1                    2.0           1  \n",
       "2                    2.0           1  \n",
       "3                    3.0           1  \n",
       "4                    2.0           1  \n",
       "...                  ...         ...  \n",
       "5105                 2.0           0  \n",
       "5106                 2.0           0  \n",
       "5107                 2.0           0  \n",
       "5108                 1.0           0  \n",
       "5109                 0.0           0  \n",
       "\n",
       "[5110 rows x 11 columns]"
      ]
     },
     "execution_count": 181,
     "metadata": {},
     "output_type": "execute_result"
    }
   ],
   "source": [
    "# move stroke feature to end, easier to visualize\n",
    "data_copy.insert(len(data_copy.columns), 'stroke_new', data_copy['stroke'], allow_duplicates=True)\n",
    "data_copy.drop('stroke', axis=1, inplace=True)\n",
    "data_copy"
   ]
  },
  {
   "cell_type": "code",
   "execution_count": 182,
   "metadata": {},
   "outputs": [
    {
     "data": {
      "image/png": "[encoded data removed]",
      "text/plain": [
       "<Figure size 720x432 with 2 Axes>"
      ]
     },
     "metadata": {
      "needs_background": "light"
     },
     "output_type": "display_data"
    }
   ],
   "source": [
    "corr = data_copy.corr()\n",
    "plt.figure(figsize=(10,6))\n",
    "mask = np.triu(np.ones_like(corr, dtype=bool))\n",
    "heatmap = sns.heatmap(corr, mask=mask, vmin=-1, vmax=1, annot=True, cmap='BrBG')\n",
    "heatmap.set_title(\"Correlation Heatmap\")\n",
    "plt.show()"
   ]
  },
  {
   "cell_type": "code",
   "execution_count": 6,
   "metadata": {},
   "outputs": [
    {
     "data": {
      "text/html": [
       "<div>\n",
       "<style scoped>\n",
       "    .dataframe tbody tr th:only-of-type {\n",
       "        vertical-align: middle;\n",
       "    }\n",
       "\n",
       "    .dataframe tbody tr th {\n",
       "        vertical-align: top;\n",
       "    }\n",
       "\n",
       "    .dataframe thead th {\n",
       "        text-align: right;\n",
       "    }\n",
       "</style>\n",
       "<table border=\"1\" class=\"dataframe\">\n",
       "  <thead>\n",
       "    <tr style=\"text-align: right;\">\n",
       "      <th></th>\n",
       "      <th>gender</th>\n",
       "      <th>age</th>\n",
       "      <th>hypertension</th>\n",
       "      <th>heart_disease</th>\n",
       "      <th>ever_married</th>\n",
       "      <th>work_type</th>\n",
       "      <th>Residence_type</th>\n",
       "      <th>avg_glucose_level</th>\n",
       "      <th>bmi</th>\n",
       "      <th>smoking_status</th>\n",
       "    </tr>\n",
       "  </thead>\n",
       "  <tbody>\n",
       "    <tr>\n",
       "      <th>0</th>\n",
       "      <td>Male</td>\n",
       "      <td>67.0</td>\n",
       "      <td>0</td>\n",
       "      <td>1</td>\n",
       "      <td>Yes</td>\n",
       "      <td>Private</td>\n",
       "      <td>Urban</td>\n",
       "      <td>228.69</td>\n",
       "      <td>36.6</td>\n",
       "      <td>formerly smoked</td>\n",
       "    </tr>\n",
       "    <tr>\n",
       "      <th>1</th>\n",
       "      <td>Female</td>\n",
       "      <td>61.0</td>\n",
       "      <td>0</td>\n",
       "      <td>0</td>\n",
       "      <td>Yes</td>\n",
       "      <td>Self-employed</td>\n",
       "      <td>Rural</td>\n",
       "      <td>202.21</td>\n",
       "      <td>NaN</td>\n",
       "      <td>never smoked</td>\n",
       "    </tr>\n",
       "    <tr>\n",
       "      <th>2</th>\n",
       "      <td>Male</td>\n",
       "      <td>80.0</td>\n",
       "      <td>0</td>\n",
       "      <td>1</td>\n",
       "      <td>Yes</td>\n",
       "      <td>Private</td>\n",
       "      <td>Rural</td>\n",
       "      <td>105.92</td>\n",
       "      <td>32.5</td>\n",
       "      <td>never smoked</td>\n",
       "    </tr>\n",
       "    <tr>\n",
       "      <th>3</th>\n",
       "      <td>Female</td>\n",
       "      <td>49.0</td>\n",
       "      <td>0</td>\n",
       "      <td>0</td>\n",
       "      <td>Yes</td>\n",
       "      <td>Private</td>\n",
       "      <td>Urban</td>\n",
       "      <td>171.23</td>\n",
       "      <td>34.4</td>\n",
       "      <td>smokes</td>\n",
       "    </tr>\n",
       "    <tr>\n",
       "      <th>4</th>\n",
       "      <td>Female</td>\n",
       "      <td>79.0</td>\n",
       "      <td>1</td>\n",
       "      <td>0</td>\n",
       "      <td>Yes</td>\n",
       "      <td>Self-employed</td>\n",
       "      <td>Rural</td>\n",
       "      <td>174.12</td>\n",
       "      <td>24.0</td>\n",
       "      <td>never smoked</td>\n",
       "    </tr>\n",
       "  </tbody>\n",
       "</table>\n",
       "</div>"
      ],
      "text/plain": [
       "   gender   age  hypertension  heart_disease ever_married      work_type  \\\n",
       "0    Male  67.0             0              1          Yes        Private   \n",
       "1  Female  61.0             0              0          Yes  Self-employed   \n",
       "2    Male  80.0             0              1          Yes        Private   \n",
       "3  Female  49.0             0              0          Yes        Private   \n",
       "4  Female  79.0             1              0          Yes  Self-employed   \n",
       "\n",
       "  Residence_type  avg_glucose_level   bmi   smoking_status  \n",
       "0          Urban             228.69  36.6  formerly smoked  \n",
       "1          Rural             202.21   NaN     never smoked  \n",
       "2          Rural             105.92  32.5     never smoked  \n",
       "3          Urban             171.23  34.4           smokes  \n",
       "4          Rural             174.12  24.0     never smoked  "
      ]
     },
     "execution_count": 6,
     "metadata": {},
     "output_type": "execute_result"
    }
   ],
   "source": [
    "# save the label column as a separate array and then drop it from the dataframe\n",
    "y = data[\"stroke\"]\n",
    "data.drop(\"stroke\", axis=1, inplace=True, errors='ignore')\n",
    "data.head()"
   ]
  },
  {
   "cell_type": "markdown",
   "metadata": {},
   "source": [
    "## Pipeline\n",
    "\n",
    "Try three imputation strategies for nulls in bmi: (1) drop bmi feature, (2) replace with median, (3) replace with mean. \\\n",
    "Augment with age^2, age\\*heart_disease, and hypertension\\*heart_disease"
   ]
  },
  {
   "cell_type": "code",
   "execution_count": 7,
   "metadata": {},
   "outputs": [
    {
     "data": {
      "text/html": [
       "<div>\n",
       "<style scoped>\n",
       "    .dataframe tbody tr th:only-of-type {\n",
       "        vertical-align: middle;\n",
       "    }\n",
       "\n",
       "    .dataframe tbody tr th {\n",
       "        vertical-align: top;\n",
       "    }\n",
       "\n",
       "    .dataframe thead th {\n",
       "        text-align: right;\n",
       "    }\n",
       "</style>\n",
       "<table border=\"1\" class=\"dataframe\">\n",
       "  <thead>\n",
       "    <tr style=\"text-align: right;\">\n",
       "      <th></th>\n",
       "      <th>gender</th>\n",
       "      <th>age</th>\n",
       "      <th>hypertension</th>\n",
       "      <th>heart_disease</th>\n",
       "      <th>ever_married</th>\n",
       "      <th>work_type</th>\n",
       "      <th>Residence_type</th>\n",
       "      <th>avg_glucose_level</th>\n",
       "      <th>smoking_status</th>\n",
       "    </tr>\n",
       "  </thead>\n",
       "  <tbody>\n",
       "    <tr>\n",
       "      <th>0</th>\n",
       "      <td>Male</td>\n",
       "      <td>67.0</td>\n",
       "      <td>0</td>\n",
       "      <td>1</td>\n",
       "      <td>Yes</td>\n",
       "      <td>Private</td>\n",
       "      <td>Urban</td>\n",
       "      <td>228.69</td>\n",
       "      <td>formerly smoked</td>\n",
       "    </tr>\n",
       "    <tr>\n",
       "      <th>1</th>\n",
       "      <td>Female</td>\n",
       "      <td>61.0</td>\n",
       "      <td>0</td>\n",
       "      <td>0</td>\n",
       "      <td>Yes</td>\n",
       "      <td>Self-employed</td>\n",
       "      <td>Rural</td>\n",
       "      <td>202.21</td>\n",
       "      <td>never smoked</td>\n",
       "    </tr>\n",
       "    <tr>\n",
       "      <th>2</th>\n",
       "      <td>Male</td>\n",
       "      <td>80.0</td>\n",
       "      <td>0</td>\n",
       "      <td>1</td>\n",
       "      <td>Yes</td>\n",
       "      <td>Private</td>\n",
       "      <td>Rural</td>\n",
       "      <td>105.92</td>\n",
       "      <td>never smoked</td>\n",
       "    </tr>\n",
       "    <tr>\n",
       "      <th>3</th>\n",
       "      <td>Female</td>\n",
       "      <td>49.0</td>\n",
       "      <td>0</td>\n",
       "      <td>0</td>\n",
       "      <td>Yes</td>\n",
       "      <td>Private</td>\n",
       "      <td>Urban</td>\n",
       "      <td>171.23</td>\n",
       "      <td>smokes</td>\n",
       "    </tr>\n",
       "    <tr>\n",
       "      <th>4</th>\n",
       "      <td>Female</td>\n",
       "      <td>79.0</td>\n",
       "      <td>1</td>\n",
       "      <td>0</td>\n",
       "      <td>Yes</td>\n",
       "      <td>Self-employed</td>\n",
       "      <td>Rural</td>\n",
       "      <td>174.12</td>\n",
       "      <td>never smoked</td>\n",
       "    </tr>\n",
       "    <tr>\n",
       "      <th>...</th>\n",
       "      <td>...</td>\n",
       "      <td>...</td>\n",
       "      <td>...</td>\n",
       "      <td>...</td>\n",
       "      <td>...</td>\n",
       "      <td>...</td>\n",
       "      <td>...</td>\n",
       "      <td>...</td>\n",
       "      <td>...</td>\n",
       "    </tr>\n",
       "    <tr>\n",
       "      <th>5105</th>\n",
       "      <td>Female</td>\n",
       "      <td>80.0</td>\n",
       "      <td>1</td>\n",
       "      <td>0</td>\n",
       "      <td>Yes</td>\n",
       "      <td>Private</td>\n",
       "      <td>Urban</td>\n",
       "      <td>83.75</td>\n",
       "      <td>never smoked</td>\n",
       "    </tr>\n",
       "    <tr>\n",
       "      <th>5106</th>\n",
       "      <td>Female</td>\n",
       "      <td>81.0</td>\n",
       "      <td>0</td>\n",
       "      <td>0</td>\n",
       "      <td>Yes</td>\n",
       "      <td>Self-employed</td>\n",
       "      <td>Urban</td>\n",
       "      <td>125.20</td>\n",
       "      <td>never smoked</td>\n",
       "    </tr>\n",
       "    <tr>\n",
       "      <th>5107</th>\n",
       "      <td>Female</td>\n",
       "      <td>35.0</td>\n",
       "      <td>0</td>\n",
       "      <td>0</td>\n",
       "      <td>Yes</td>\n",
       "      <td>Self-employed</td>\n",
       "      <td>Rural</td>\n",
       "      <td>82.99</td>\n",
       "      <td>never smoked</td>\n",
       "    </tr>\n",
       "    <tr>\n",
       "      <th>5108</th>\n",
       "      <td>Male</td>\n",
       "      <td>51.0</td>\n",
       "      <td>0</td>\n",
       "      <td>0</td>\n",
       "      <td>Yes</td>\n",
       "      <td>Private</td>\n",
       "      <td>Rural</td>\n",
       "      <td>166.29</td>\n",
       "      <td>formerly smoked</td>\n",
       "    </tr>\n",
       "    <tr>\n",
       "      <th>5109</th>\n",
       "      <td>Female</td>\n",
       "      <td>44.0</td>\n",
       "      <td>0</td>\n",
       "      <td>0</td>\n",
       "      <td>Yes</td>\n",
       "      <td>Govt_job</td>\n",
       "      <td>Urban</td>\n",
       "      <td>85.28</td>\n",
       "      <td>Unknown</td>\n",
       "    </tr>\n",
       "  </tbody>\n",
       "</table>\n",
       "<p>5110 rows × 9 columns</p>\n",
       "</div>"
      ],
      "text/plain": [
       "      gender   age  hypertension  heart_disease ever_married      work_type  \\\n",
       "0       Male  67.0             0              1          Yes        Private   \n",
       "1     Female  61.0             0              0          Yes  Self-employed   \n",
       "2       Male  80.0             0              1          Yes        Private   \n",
       "3     Female  49.0             0              0          Yes        Private   \n",
       "4     Female  79.0             1              0          Yes  Self-employed   \n",
       "...      ...   ...           ...            ...          ...            ...   \n",
       "5105  Female  80.0             1              0          Yes        Private   \n",
       "5106  Female  81.0             0              0          Yes  Self-employed   \n",
       "5107  Female  35.0             0              0          Yes  Self-employed   \n",
       "5108    Male  51.0             0              0          Yes        Private   \n",
       "5109  Female  44.0             0              0          Yes       Govt_job   \n",
       "\n",
       "     Residence_type  avg_glucose_level   smoking_status  \n",
       "0             Urban             228.69  formerly smoked  \n",
       "1             Rural             202.21     never smoked  \n",
       "2             Rural             105.92     never smoked  \n",
       "3             Urban             171.23           smokes  \n",
       "4             Rural             174.12     never smoked  \n",
       "...             ...                ...              ...  \n",
       "5105          Urban              83.75     never smoked  \n",
       "5106          Urban             125.20     never smoked  \n",
       "5107          Rural              82.99     never smoked  \n",
       "5108          Rural             166.29  formerly smoked  \n",
       "5109          Urban              85.28          Unknown  \n",
       "\n",
       "[5110 rows x 9 columns]"
      ]
     },
     "execution_count": 7,
     "metadata": {},
     "output_type": "execute_result"
    }
   ],
   "source": [
    "data_drop = data.drop(\"bmi\", axis=1) # imputation strategy: drop bmi\n",
    "data_drop"
   ]
  },
  {
   "cell_type": "code",
   "execution_count": 8,
   "metadata": {},
   "outputs": [
    {
     "name": "stdout",
     "output_type": "stream",
     "text": [
      "All numerical features:  ['age', 'hypertension', 'heart_disease', 'avg_glucose_level', 'bmi']\n",
      "Numerical features without bmi:  ['age', 'hypertension', 'heart_disease', 'avg_glucose_level']\n",
      "Categorical features to one-hot encode:  ['gender', 'work_type', 'smoking_status']\n",
      "Categorical features to label encode:  ['ever_married', 'Residence_type']\n"
     ]
    }
   ],
   "source": [
    "num_data = data.select_dtypes(exclude=['object'])\n",
    "cat_data = data.select_dtypes(include=['object'])\n",
    "num_cols = list(num_data.columns)\n",
    "cat_cols = list(cat_data.columns)\n",
    "\n",
    "num_cols_drop = [col for col in num_cols if col != \"bmi\"] # numerical columns for dropped bmi pipeline\n",
    "cat_cols_le = [\"ever_married\", \"Residence_type\"] # binary categorial features to label encode\n",
    "cat_cols_ohe = [col for col in cat_cols if col not in cat_cols_le] # binary categorial features to one-hot encode\n",
    "\n",
    "print(\"All numerical features: \", num_cols)\n",
    "print(\"Numerical features without bmi: \", num_cols_drop)\n",
    "print(\"Categorical features to one-hot encode: \", cat_cols_ohe)\n",
    "print(\"Categorical features to label encode: \", cat_cols_le)"
   ]
  },
  {
   "cell_type": "code",
   "execution_count": 9,
   "metadata": {},
   "outputs": [],
   "source": [
    "age_idx, hyper_idx, disease_idx = 0, 1, 2\n",
    "\n",
    "class AugmentFeatures(BaseEstimator, TransformerMixin):\n",
    "    '''\n",
    "    Augments with: age**2, age*heart_disease, hypertension*heart_disease\n",
    "    '''\n",
    "    def __init__(self):\n",
    "        pass\n",
    "    def fit(self, X, y=None):\n",
    "        return self\n",
    "    def transform(self, X):\n",
    "        if isinstance(X, pd.DataFrame): # data_drop case\n",
    "            age_sq = X[\"age\"] * X[\"age\"]\n",
    "            age_disease = X[\"age\"] * X[\"heart_disease\"]\n",
    "            hyper_disease = X[\"hypertension\"] * X[\"heart_disease\"]\n",
    "        else: # median and knn cases\n",
    "            age_sq = X[:, age_idx] * X[:, age_idx]\n",
    "            age_disease = X[:, age_idx] * X[:, disease_idx]\n",
    "            hyper_disease = X[:, hyper_idx] * X[:, disease_idx]\n",
    "        return np.c_[X, age_sq, age_disease, hyper_disease]\n",
    "\n",
    "class MultiColumnLabelEncoder(BaseEstimator, TransformerMixin):\n",
    "    # code from: https://stackoverflow.com/questions/24458645/label-encoding-across-multiple-columns-in-scikit-learn\n",
    "    def __init__(self,columns = None):\n",
    "        self.columns = columns # array of column names to encode\n",
    "    def fit(self,X,y=None):\n",
    "        return self\n",
    "    def transform(self,X):\n",
    "        '''\n",
    "        Transforms columns of X specified in self.columns using\n",
    "        LabelEncoder(). If no columns specified, transforms all\n",
    "        columns in X.\n",
    "        '''\n",
    "        output = X.copy()\n",
    "        if self.columns is not None:\n",
    "            for col in self.columns:\n",
    "                output[col] = LabelEncoder().fit_transform(output[col])\n",
    "        else:\n",
    "            for colname,col in output.iteritems():\n",
    "                output[colname] = LabelEncoder().fit_transform(col)\n",
    "        return output\n",
    "\n",
    "# pipeline with bmi dropped\n",
    "num_pipeline = Pipeline([\n",
    "        ('attribs_adder', AugmentFeatures()),\n",
    "        ('std_scaler', StandardScaler()),\n",
    "    ])\n",
    "full_pipeline = ColumnTransformer([\n",
    "        ('num', num_pipeline, num_cols_drop),\n",
    "        ('cat_ohe', OneHotEncoder(), cat_cols_ohe),\n",
    "        ('cat_le', MultiColumnLabelEncoder(), cat_cols_le),\n",
    "    ])\n",
    "\n",
    "# pipeline replacing nulls with median\n",
    "num_pipeline_med = Pipeline([\n",
    "        ('imputer', SimpleImputer(strategy=\"median\")),\n",
    "        ('attribs_adder', AugmentFeatures()),\n",
    "        ('std_scaler', StandardScaler()),\n",
    "    ])\n",
    "full_pipeline_med = ColumnTransformer([\n",
    "        ('num', num_pipeline_med, num_cols),\n",
    "        ('cat_ohe', OneHotEncoder(), cat_cols_ohe),\n",
    "        ('cat_le', MultiColumnLabelEncoder(), cat_cols_le),\n",
    "    ])\n",
    "\n",
    "# pipeline replacing nulls with mean\n",
    "num_pipeline_knn = Pipeline([\n",
    "        ('imputer', KNNImputer()),\n",
    "        ('attribs_adder', AugmentFeatures()),\n",
    "        ('std_scaler', StandardScaler()),\n",
    "    ])\n",
    "full_pipeline_knn = ColumnTransformer([\n",
    "        ('num', num_pipeline_knn, num_cols),\n",
    "        ('cat_ohe', OneHotEncoder(), cat_cols_ohe),\n",
    "        ('cat_le', MultiColumnLabelEncoder(), cat_cols_le),\n",
    "    ])\n",
    "\n",
    "# transform data\n",
    "data_prep_drop = full_pipeline.fit_transform(data_drop)\n",
    "data_prep_med = full_pipeline_med.fit_transform(data)\n",
    "data_prep_knn = full_pipeline_knn.fit_transform(data)"
   ]
  },
  {
   "cell_type": "code",
   "execution_count": 725,
   "metadata": {},
   "outputs": [
    {
     "data": {
      "text/plain": [
       "array([[ 1.05143428, -0.32860186,  4.18503199,  2.70637544,  1.08047285,\n",
       "         4.04657872, -0.11262022,  0.        ,  1.        ,  0.        ,\n",
       "         0.        ,  0.        ,  1.        ,  0.        ,  0.        ,\n",
       "         0.        ,  1.        ,  0.        ,  0.        ,  1.        ,\n",
       "         1.        ],\n",
       "       [ 0.78607007, -0.32860186, -0.2389468 ,  2.12155854,  0.68705729,\n",
       "        -0.23537818, -0.11262022,  1.        ,  0.        ,  0.        ,\n",
       "         0.        ,  0.        ,  0.        ,  1.        ,  0.        ,\n",
       "         0.        ,  0.        ,  1.        ,  0.        ,  1.        ,\n",
       "         0.        ],\n",
       "       [ 1.62639008, -0.32860186,  4.18503199, -0.0050283 ,  2.05940142,\n",
       "         4.87740618, -0.11262022,  0.        ,  1.        ,  0.        ,\n",
       "         0.        ,  0.        ,  1.        ,  0.        ,  0.        ,\n",
       "         0.        ,  0.        ,  1.        ,  0.        ,  1.        ,\n",
       "         0.        ]])"
      ]
     },
     "execution_count": 725,
     "metadata": {},
     "output_type": "execute_result"
    }
   ],
   "source": [
    "# age, hypertension, heart_disease, avg_glucose_level, age_sq, age_disease, hyper_disease, work_type[0:4], smoking_status[0:3], gender, ever_married, Residence_type\n",
    "data_prep_drop[:3]"
   ]
  },
  {
   "cell_type": "code",
   "execution_count": 726,
   "metadata": {},
   "outputs": [
    {
     "name": "stdout",
     "output_type": "stream",
     "text": [
      "[[ 1.05143428 -0.32860186  4.18503199  2.70637544  1.00508597  1.08047285\n",
      "   4.04657872 -0.11262022  0.          1.          0.          0.\n",
      "   0.          1.          0.          0.          0.          1.\n",
      "   0.          0.          1.          1.        ]\n",
      " [ 0.78607007 -0.32860186 -0.2389468   2.12155854 -0.09898092  0.68705729\n",
      "  -0.23537818 -0.11262022  1.          0.          0.          0.\n",
      "   0.          0.          1.          0.          0.          0.\n",
      "   1.          0.          1.          0.        ]\n",
      " [ 1.62639008 -0.32860186  4.18503199 -0.0050283   0.47253605  2.05940142\n",
      "   4.87740618 -0.11262022  0.          1.          0.          0.\n",
      "   0.          1.          0.          0.          0.          0.\n",
      "   1.          0.          1.          0.        ]]\n"
     ]
    }
   ],
   "source": [
    "# age, hypertension, heart_disease, avg_glucose_level, bmi, age_sq, age_disease, hyper_disease, work_type[0:4], smoking_status[0:3], gender, ever_married, Residence_type\n",
    "data_prep_med[:3]"
   ]
  },
  {
   "cell_type": "code",
   "execution_count": 727,
   "metadata": {},
   "outputs": [
    {
     "name": "stdout",
     "output_type": "stream",
     "text": [
      "[[ 1.05143428 -0.32860186  4.18503199  2.70637544  0.98563647  1.08047285\n",
      "   4.04657872 -0.11262022  0.          1.          0.          0.\n",
      "   0.          1.          0.          0.          0.          1.\n",
      "   0.          0.          1.          1.        ]\n",
      " [ 0.78607007 -0.32860186 -0.2389468   2.12155854  0.31354701  0.68705729\n",
      "  -0.23537818 -0.11262022  1.          0.          0.          0.\n",
      "   0.          0.          1.          0.          0.          0.\n",
      "   1.          0.          1.          0.        ]\n",
      " [ 1.62639008 -0.32860186  4.18503199 -0.0050283   0.45775011  2.05940142\n",
      "   4.87740618 -0.11262022  0.          1.          0.          0.\n",
      "   0.          1.          0.          0.          0.          0.\n",
      "   1.          0.          1.          0.        ]]\n"
     ]
    }
   ],
   "source": [
    "# age, hypertension, heart_disease, avg_glucose_level, bmi, work_type[0:4], smoking_status[0:3], gender, ever_married, Residence_type\n",
    "data_prep_knn[:3]"
   ]
  },
  {
   "cell_type": "code",
   "execution_count": 10,
   "metadata": {},
   "outputs": [
    {
     "name": "stdout",
     "output_type": "stream",
     "text": [
      "(4088, 21) (4088,)\n",
      "(1022, 21) (1022,)\n"
     ]
    }
   ],
   "source": [
    "X_train_drop, X_test_drop, y_train_drop, y_test_drop = train_test_split(data_prep_drop, y, test_size=0.2, random_state=0)\n",
    "print(X_train_drop.shape, y_train_drop.shape)\n",
    "print(X_test_drop.shape, y_test_drop.shape)"
   ]
  },
  {
   "cell_type": "code",
   "execution_count": 11,
   "metadata": {},
   "outputs": [
    {
     "name": "stdout",
     "output_type": "stream",
     "text": [
      "(4088, 22) (4088,)\n",
      "(1022, 22) (1022,)\n",
      "(4088, 22) (4088,)\n",
      "(1022, 22) (1022,)\n"
     ]
    }
   ],
   "source": [
    "X_train_med, X_test_med, y_train_med, y_test_med = train_test_split(data_prep_med, y, test_size=0.2, random_state=0)\n",
    "print(X_train_med.shape, y_train_med.shape)\n",
    "print(X_test_med.shape, y_test_med.shape)\n",
    "\n",
    "X_train_knn, X_test_knn, y_train_knn, y_test_knn = train_test_split(data_prep_knn, y, test_size=0.2, random_state=0)\n",
    "print(X_train_knn.shape, y_train_knn.shape)\n",
    "print(X_test_knn.shape, y_test_knn.shape)"
   ]
  },
  {
   "cell_type": "markdown",
   "metadata": {},
   "source": [
    "### Ordinary least squares"
   ]
  },
  {
   "cell_type": "code",
   "execution_count": 184,
   "metadata": {},
   "outputs": [
    {
     "name": "stdout",
     "output_type": "stream",
     "text": [
      "                            OLS Regression Results                            \n",
      "==============================================================================\n",
      "Dep. Variable:                 stroke   R-squared:                       0.092\n",
      "Model:                            OLS   Adj. R-squared:                  0.089\n",
      "Method:                 Least Squares   F-statistic:                     28.74\n",
      "Date:                Mon, 31 May 2021   Prob (F-statistic):           2.51e-93\n",
      "Time:                        21:41:41   Log-Likelihood:                 844.05\n",
      "No. Observations:                5110   AIC:                            -1650.\n",
      "Df Residuals:                    5091   BIC:                            -1526.\n",
      "Df Model:                          18                                         \n",
      "Covariance Type:            nonrobust                                         \n",
      "==============================================================================\n",
      "                 coef    std err          t      P>|t|      [0.025      0.975]\n",
      "------------------------------------------------------------------------------\n",
      "x1            -0.0694      0.022     -3.203      0.001      -0.112      -0.027\n",
      "x2             0.0108      0.003      3.363      0.001       0.005       0.017\n",
      "x3             0.0065      0.017      0.379      0.705      -0.027       0.040\n",
      "x4             0.0129      0.003      4.277      0.000       0.007       0.019\n",
      "x5             0.1197      0.018      6.555      0.000       0.084       0.156\n",
      "x6             0.0037      0.017      0.214      0.831      -0.031       0.038\n",
      "x7            -0.0018      0.003     -0.501      0.616      -0.009       0.005\n",
      "x8             0.0264      0.040      0.661      0.509      -0.052       0.105\n",
      "x9             0.0253      0.040      0.633      0.527      -0.053       0.104\n",
      "x10            0.0053      0.166      0.032      0.974      -0.321       0.332\n",
      "x11            0.0143      0.020      0.700      0.484      -0.026       0.054\n",
      "x12            0.0165      0.042      0.397      0.691      -0.065       0.098\n",
      "x13            0.0237      0.019      1.231      0.219      -0.014       0.062\n",
      "x14            0.0003      0.020      0.015      0.988      -0.039       0.040\n",
      "x15            0.0021      0.023      0.093      0.926      -0.043       0.047\n",
      "x16            0.0120      0.023      0.525      0.600      -0.033       0.057\n",
      "x17            0.0178      0.023      0.780      0.436      -0.027       0.062\n",
      "x18            0.0083      0.023      0.369      0.712      -0.036       0.053\n",
      "x19            0.0189      0.023      0.814      0.415      -0.027       0.064\n",
      "x20           -0.0124      0.009     -1.345      0.179      -0.030       0.006\n",
      "x21            0.0047      0.006      0.818      0.414      -0.007       0.016\n",
      "==============================================================================\n",
      "Omnibus:                     3771.859   Durbin-Watson:                   0.189\n",
      "Prob(Omnibus):                  0.000   Jarque-Bera (JB):            46908.202\n",
      "Skew:                           3.604   Prob(JB):                         0.00\n",
      "Kurtosis:                      15.975   Cond. No.                     1.08e+16\n",
      "==============================================================================\n",
      "\n",
      "Notes:\n",
      "[1] Standard Errors assume that the covariance matrix of the errors is correctly specified.\n",
      "[2] The smallest eigenvalue is 1.37e-28. This might indicate that there are\n",
      "strong multicollinearity problems or that the design matrix is singular.\n"
     ]
    }
   ],
   "source": [
    "stats_model = sm.OLS(y, data_prep_drop)\n",
    "stats = stats_model.fit()\n",
    "print(stats.summary())"
   ]
  },
  {
   "cell_type": "markdown",
   "metadata": {},
   "source": [
    "### Balance the training set: upsample minority class"
   ]
  },
  {
   "cell_type": "code",
   "execution_count": 12,
   "metadata": {},
   "outputs": [],
   "source": [
    "# code from: https://towardsdatascience.com/methods-for-dealing-with-imbalanced-data-5b761be45a18\n",
    "\n",
    "def resample_train(X_train, y_train, sampling):\n",
    "    # concatenate our training data back together\n",
    "    X = np.c_[X_train, y_train]\n",
    "    # separate minority and majority classes\n",
    "    no_stroke = X[X[:,-1]==0]\n",
    "    stroke = X[X[:,-1]==1]\n",
    "    \n",
    "    # upsample minority\n",
    "    stroke_upsampled = resample(stroke, replace=True, n_samples=len(no_stroke), random_state=0)\n",
    "    # combine majority and upsampled minority\n",
    "    upsampled = np.vstack((no_stroke, stroke_upsampled))\n",
    "    \n",
    "    # downsample majority\n",
    "    no_stroke_downsampled = resample(no_stroke, replace=False, n_samples=len(stroke), random_state=0)\n",
    "    # combine downsampled majority and minority\n",
    "    downsampled = np.vstack((no_stroke_downsampled, stroke))\n",
    "    \n",
    "    if sampling=='up':\n",
    "        X_train_new = upsampled[:,:-1] # all but last column\n",
    "        y_train_new = upsampled[:,-1] # only last column\n",
    "    else:\n",
    "        X_train_new = downsampled[:,:-1] # all but last column\n",
    "        y_train_new = downsampled[:,-1] # only last column\n",
    "    \n",
    "    return X_train_new, y_train_new"
   ]
  },
  {
   "cell_type": "markdown",
   "metadata": {},
   "source": [
    "#### Dropped dataset"
   ]
  },
  {
   "cell_type": "code",
   "execution_count": 13,
   "metadata": {},
   "outputs": [
    {
     "name": "stdout",
     "output_type": "stream",
     "text": [
      "(7786, 21) (7786,)\n"
     ]
    }
   ],
   "source": [
    "X_train_drop_up, y_train_drop_up = resample_train(X_train_drop, y_train_drop, sampling='up')\n",
    "print (X_train_drop_up.shape, y_train_drop_up.shape)"
   ]
  },
  {
   "cell_type": "markdown",
   "metadata": {},
   "source": [
    "#### Median dataset"
   ]
  },
  {
   "cell_type": "code",
   "execution_count": 14,
   "metadata": {},
   "outputs": [
    {
     "name": "stdout",
     "output_type": "stream",
     "text": [
      "(7786, 22) (7786,)\n"
     ]
    }
   ],
   "source": [
    "X_train_med_up, y_train_med_up = resample_train(X_train_med, y_train_med, sampling='up')\n",
    "print (X_train_med_up.shape, y_train_med_up.shape)"
   ]
  },
  {
   "cell_type": "markdown",
   "metadata": {},
   "source": [
    "#### KNN dataset"
   ]
  },
  {
   "cell_type": "code",
   "execution_count": 15,
   "metadata": {},
   "outputs": [
    {
     "name": "stdout",
     "output_type": "stream",
     "text": [
      "(7786, 22) (7786,)\n"
     ]
    }
   ],
   "source": [
    "X_train_knn_up, y_train_knn_up = resample_train(X_train_knn, y_train_knn, sampling='up')\n",
    "print (X_train_knn_up.shape, y_train_knn_up.shape)"
   ]
  },
  {
   "cell_type": "markdown",
   "metadata": {},
   "source": [
    "### Balance the training set: downsample majority class\n",
    "Probably not as good, just try it on dropped dataset."
   ]
  },
  {
   "cell_type": "code",
   "execution_count": 16,
   "metadata": {},
   "outputs": [
    {
     "name": "stdout",
     "output_type": "stream",
     "text": [
      "(390, 21) (390,)\n"
     ]
    }
   ],
   "source": [
    "X_train_down, y_train_down = resample_train(X_train_drop, y_train_drop, sampling='down')\n",
    "print (X_train_down.shape, y_train_down.shape)"
   ]
  },
  {
   "cell_type": "markdown",
   "metadata": {},
   "source": [
    "## Logistic regression on balanced data"
   ]
  },
  {
   "cell_type": "code",
   "execution_count": 31,
   "metadata": {},
   "outputs": [],
   "source": [
    "def lr_balanced(X_train, X_test, y_train, y_test, draw_cm=False, plot_roc=False):\n",
    "    lr = LogisticRegression(random_state=0, max_iter=200)\n",
    "    lr.fit(X_train, y_train)\n",
    "    preds = lr.predict(X_test)\n",
    "    print_metrics(y_test, preds)\n",
    "    if draw_cm:\n",
    "        draw_confusion_matrix(y_test, preds, [\"No stroke\", \"Stroke\"])\n",
    "    if plot_roc:\n",
    "        plot_roc_curve(lr, X_test, y_test)\n",
    "        plt.show()"
   ]
  },
  {
   "cell_type": "markdown",
   "metadata": {},
   "source": [
    "### Dropped dataset"
   ]
  },
  {
   "cell_type": "code",
   "execution_count": 34,
   "metadata": {},
   "outputs": [
    {
     "name": "stdout",
     "output_type": "stream",
     "text": [
      "Accuracy:    0.749511\n",
      "Precision:   0.141844\n",
      "Recall:      0.740741\n",
      "F1 score:    0.238095\n"
     ]
    },
    {
     "data": {
      "image/png": "[encoded data removed]",
      "text/plain": [
       "<Figure size 432x288 with 2 Axes>"
      ]
     },
     "metadata": {
      "needs_background": "light"
     },
     "output_type": "display_data"
    },
    {
     "data": {
      "image/png": "[encoded data removed]",
      "text/plain": [
       "<Figure size 432x288 with 1 Axes>"
      ]
     },
     "metadata": {
      "needs_background": "light"
     },
     "output_type": "display_data"
    }
   ],
   "source": [
    "lr_balanced(X_train_drop_up, X_test_drop, y_train_drop_up, y_test_drop, draw_cm=True, plot_roc=True)"
   ]
  },
  {
   "cell_type": "markdown",
   "metadata": {},
   "source": [
    "### Median dataset"
   ]
  },
  {
   "cell_type": "code",
   "execution_count": 697,
   "metadata": {},
   "outputs": [
    {
     "name": "stdout",
     "output_type": "stream",
     "text": [
      "Accuracy:    0.746575\n",
      "Precision:   0.140351\n",
      "Recall:      0.740741\n",
      "F1 score:    0.235988\n"
     ]
    }
   ],
   "source": [
    "lr_balanced(X_train_med_up, X_test_med, y_train_med_up, y_test_med)"
   ]
  },
  {
   "cell_type": "markdown",
   "metadata": {},
   "source": [
    "### KNN dataset"
   ]
  },
  {
   "cell_type": "code",
   "execution_count": 698,
   "metadata": {},
   "outputs": [
    {
     "name": "stdout",
     "output_type": "stream",
     "text": [
      "Accuracy:    0.747554\n",
      "Precision:   0.140845\n",
      "Recall:      0.740741\n",
      "F1 score:    0.236686\n"
     ]
    }
   ],
   "source": [
    "lr_balanced(X_train_knn_up, X_test_knn, y_train_knn_up, y_test_knn)"
   ]
  },
  {
   "cell_type": "markdown",
   "metadata": {},
   "source": [
    "### Downsampled dataset"
   ]
  },
  {
   "cell_type": "code",
   "execution_count": 699,
   "metadata": {},
   "outputs": [
    {
     "name": "stdout",
     "output_type": "stream",
     "text": [
      "Accuracy:    0.734834\n",
      "Precision:   0.137124\n",
      "Recall:      0.759259\n",
      "F1 score:    0.232295\n"
     ]
    }
   ],
   "source": [
    "lr_balanced(X_train_down, X_test_drop, y_train_down, y_test)"
   ]
  },
  {
   "cell_type": "markdown",
   "metadata": {},
   "source": [
    "Basic logistic regression shows that a model fit to downsampled training data performs worse than one fit to oversampled training data, and imputation by dropping bmi performs better than replacing with either median or a knn average."
   ]
  },
  {
   "cell_type": "markdown",
   "metadata": {},
   "source": [
    "## Cross validate logistic regression on balanced data"
   ]
  },
  {
   "cell_type": "code",
   "execution_count": 35,
   "metadata": {},
   "outputs": [],
   "source": [
    "# code from: https://github.com/lumiata/tech_blog/blob/master/Cross_Validation_Imbalanced_Datasets/cross-validation.ipynb\n",
    "\n",
    "def cv_balanced(X_train, y_train, set_label):\n",
    "    kf = StratifiedKFold(n_splits=10, random_state=0, shuffle=True)\n",
    "    cv_f1_score_lst = []\n",
    "    cv_accuracy_lst = []\n",
    "    cv_recall_lst = []\n",
    "    cv_precision_lst = []\n",
    "    \n",
    "    for train_idx_ls, test_idx_ls in kf.split(X_train, y_train):\n",
    "        X_train_kf, X_test_kf = X_train[train_idx_ls], X_train[test_idx_ls]\n",
    "        y_train_kf, y_test_kf = y_train.iloc[train_idx_ls], y_train.iloc[test_idx_ls]\n",
    "\n",
    "        if set_label!='downsampled':\n",
    "            sampler = SMOTE(random_state=0)\n",
    "        else:\n",
    "            sampler = RandomUnderSampler(random_state=0)\n",
    "\n",
    "        X_train_res, y_train_res = sampler.fit_resample(X_train_kf, y_train_kf)\n",
    "        # print(X_train_res.shape, y_train_res.shape)\n",
    "\n",
    "        lr_kf = LogisticRegression(random_state=0, max_iter=200)\n",
    "        lr_kf.fit(X_train_res, y_train_res)\n",
    "\n",
    "        test_preds = lr_kf.predict(X_test_kf)\n",
    "\n",
    "        cv_recall_lst.append(recall_score(y_test_kf, test_preds))\n",
    "        cv_accuracy_lst.append(accuracy_score(y_test_kf, test_preds))\n",
    "        cv_precision_lst.append(precision_score(y_test_kf, test_preds))\n",
    "        cv_f1_score_lst.append(f1_score(y_test_kf, test_preds))\n",
    "    \n",
    "    print ('Dataset:', set_label)\n",
    "    print ('Cross validated accuracy: {}'.format(np.mean(cv_accuracy_lst)))\n",
    "    print ('Cross validated precision: {}'.format(np.mean(cv_precision_lst)))\n",
    "    print ('Cross validated recall: {}'.format(np.mean(cv_recall_lst)))\n",
    "    print ('Cross validated F1: {}'.format(np.mean(cv_f1_score_lst)))"
   ]
  },
  {
   "cell_type": "code",
   "execution_count": 19,
   "metadata": {},
   "outputs": [
    {
     "name": "stdout",
     "output_type": "stream",
     "text": [
      "Dataset: dropped\n",
      "Cross validated accuracy: 0.7304257155184811\n",
      "Cross validated precision: 0.13024707648692208\n",
      "Cross validated recall: 0.8149999999999998\n",
      "Cross validated F1: 0.2244479053862772\n",
      "\n",
      "Dataset: median\n",
      "Cross validated accuracy: 0.7304251162567716\n",
      "Cross validated precision: 0.1295912884132166\n",
      "Cross validated recall: 0.8102631578947367\n",
      "Cross validated F1: 0.22335847016103338\n",
      "\n",
      "Dataset: knn\n",
      "Cross validated accuracy: 0.729936717963469\n",
      "Cross validated precision: 0.12949401727935456\n",
      "Cross validated recall: 0.8102631578947367\n",
      "Cross validated F1: 0.22318588451215288\n",
      "\n",
      "Dataset: downsampled\n",
      "Cross validated accuracy: 0.737028980296275\n",
      "Cross validated precision: 0.129960000795603\n",
      "Cross validated recall: 0.7894736842105263\n",
      "Cross validated F1: 0.22307714339499318\n",
      "\n"
     ]
    }
   ],
   "source": [
    "balanced_sets = [[X_train_drop, y_train_drop], [X_train_med, y_train_med], [X_train_knn, y_train_knn], [X_train_drop, y_train_drop]]\n",
    "set_label = [\"dropped\", \"median\", \"knn\", \"downsampled\"]\n",
    "count = 0\n",
    "\n",
    "for X_train, y_train in balanced_sets:\n",
    "    cv_balanced(X_train, y_train, set_label=set_label[count])\n",
    "    print()\n",
    "    count += 1"
   ]
  },
  {
   "cell_type": "markdown",
   "metadata": {},
   "source": [
    "Cross validation of logistic regression models on upsampled and downsampled data confirms that upsampling with the dropped bmi feature performs best, though all still have low F1 scores."
   ]
  },
  {
   "cell_type": "markdown",
   "metadata": {},
   "source": [
    "Dropped bmi and upsampled data will be used going forward."
   ]
  },
  {
   "cell_type": "code",
   "execution_count": 36,
   "metadata": {},
   "outputs": [
    {
     "name": "stdout",
     "output_type": "stream",
     "text": [
      "(4088, 21) (4088,)\n",
      "(1022, 21) (1022,)\n"
     ]
    }
   ],
   "source": [
    "X_train, X_test, y_train, y_test = X_train_drop, X_test_drop, y_train_drop, y_test_drop\n",
    "print(X_train.shape, y_train.shape)\n",
    "print(X_test.shape, y_test.shape)"
   ]
  },
  {
   "cell_type": "markdown",
   "metadata": {},
   "source": [
    "## Principal component analysis"
   ]
  },
  {
   "cell_type": "code",
   "execution_count": 37,
   "metadata": {},
   "outputs": [
    {
     "name": "stdout",
     "output_type": "stream",
     "text": [
      "(4088, 11)\n",
      "(1022, 11)\n"
     ]
    }
   ],
   "source": [
    "pca = PCA(n_components=0.95) # choose the minimum number of principal components such that 95% of variance is retained\n",
    "pca.fit(X_train)\n",
    "X_train_pca = pca.transform(X_train)\n",
    "X_test_pca = pca.transform(X_test)\n",
    "\n",
    "print(X_train_pca.shape)\n",
    "print(X_test_pca.shape)"
   ]
  },
  {
   "cell_type": "code",
   "execution_count": 38,
   "metadata": {},
   "outputs": [
    {
     "name": "stdout",
     "output_type": "stream",
     "text": [
      "Dataset: PCA\n",
      "Cross validated accuracy: 0.7526852917206002\n",
      "Cross validated precision: 0.13614282932443106\n",
      "Cross validated recall: 0.7789473684210526\n",
      "Cross validated F1: 0.2316382151979317\n"
     ]
    }
   ],
   "source": [
    "cv_balanced(X_train_pca, y_train_drop, set_label='PCA')"
   ]
  },
  {
   "cell_type": "markdown",
   "metadata": {},
   "source": [
    "Logistic regression performs better after dimensionality reduction by PCA, indicating the model is less overfit and generalizes better to test data after being trained on PCA data."
   ]
  },
  {
   "cell_type": "code",
   "execution_count": 39,
   "metadata": {},
   "outputs": [],
   "source": [
    "# also perform PCA on dropped upsampled dataset\n",
    "pca_up = PCA(n_components=0.95)\n",
    "pca_up.fit(X_train_drop_up)\n",
    "X_train_pca_up = pca_up.transform(X_train_drop_up)\n",
    "X_test_pca_up = pca_up.transform(X_test_drop)"
   ]
  },
  {
   "cell_type": "markdown",
   "metadata": {},
   "source": [
    "PCA data should be used going forward."
   ]
  },
  {
   "cell_type": "code",
   "execution_count": 40,
   "metadata": {},
   "outputs": [
    {
     "name": "stdout",
     "output_type": "stream",
     "text": [
      "(4088, 11) (4088,)\n",
      "(1022, 11) (1022,)\n"
     ]
    }
   ],
   "source": [
    "# use this if including upsampling within cross-validation\n",
    "X_train, X_test, y_train, y_test = X_train_pca, X_test_pca, y_train_drop, y_test_drop\n",
    "print(X_train.shape, y_train.shape)\n",
    "print(X_test.shape, y_test.shape)"
   ]
  },
  {
   "cell_type": "code",
   "execution_count": 41,
   "metadata": {},
   "outputs": [
    {
     "name": "stdout",
     "output_type": "stream",
     "text": [
      "(7786, 10) (7786,)\n",
      "(1022, 10) (1022,)\n"
     ]
    }
   ],
   "source": [
    "# use this if running basic model without cross-validation\n",
    "X_train_up, X_test_up, y_train_up, y_test = X_train_pca_up, X_test_pca_up, y_train_drop_up, y_test_drop\n",
    "print(X_train_up.shape, y_train_up.shape)\n",
    "print(X_test_up.shape, y_test.shape)"
   ]
  },
  {
   "cell_type": "markdown",
   "metadata": {},
   "source": [
    "## Ensemble methods"
   ]
  },
  {
   "cell_type": "markdown",
   "metadata": {},
   "source": [
    "### Decision tree"
   ]
  },
  {
   "cell_type": "code",
   "execution_count": 42,
   "metadata": {},
   "outputs": [
    {
     "name": "stdout",
     "output_type": "stream",
     "text": [
      "Accuracy:    0.915851\n",
      "Precision:   0.119048\n",
      "Recall:      0.092593\n",
      "F1 score:    0.104167\n"
     ]
    }
   ],
   "source": [
    "# basic decision tree\n",
    "dt = DecisionTreeClassifier(random_state=0)\n",
    "dt.fit(X_train_up, y_train_up)\n",
    "preds_dt = dt.predict(X_test_up)\n",
    "print_metrics(y_test, preds_dt)"
   ]
  },
  {
   "cell_type": "code",
   "execution_count": 71,
   "metadata": {},
   "outputs": [
    {
     "data": {
      "image/png": "[encoded data removed]",
      "text/plain": [
       "<Figure size 432x288 with 2 Axes>"
      ]
     },
     "metadata": {
      "needs_background": "light"
     },
     "output_type": "display_data"
    }
   ],
   "source": [
    "draw_confusion_matrix(y_test, preds_dt, [\"No stroke\", \"Stroke\"])"
   ]
  },
  {
   "cell_type": "code",
   "execution_count": 708,
   "metadata": {},
   "outputs": [
    {
     "data": {
      "image/png": "[encoded data removed]",
      "text/plain": [
       "<Figure size 1440x720 with 1 Axes>"
      ]
     },
     "metadata": {
      "needs_background": "light"
     },
     "output_type": "display_data"
    }
   ],
   "source": [
    "plt.figure(figsize=(20,10))\n",
    "tree.plot_tree(dt, filled=True)\n",
    "plt.show()"
   ]
  },
  {
   "cell_type": "markdown",
   "metadata": {},
   "source": [
    "### Tuning tree parameters\n",
    "Code from: https://kiwidamien.github.io/how-to-do-cross-validation-when-upsampling-data.html"
   ]
  },
  {
   "cell_type": "code",
   "execution_count": 52,
   "metadata": {},
   "outputs": [],
   "source": [
    "max_leaf_nodes_arr = np.linspace(2, 30, 29, endpoint=True).astype(int)\n",
    "max_depth_arr = np.linspace(1, 10, 10, endpoint=True).astype(int)\n",
    "\n",
    "dt_params = dict(max_leaf_nodes=max_leaf_nodes_arr, max_depth=max_depth_arr)\n",
    "dt_params = {'decisiontreeclassifier__' + key: dt_params[key] for key in dt_params}"
   ]
  },
  {
   "cell_type": "code",
   "execution_count": 187,
   "metadata": {},
   "outputs": [
    {
     "name": "stdout",
     "output_type": "stream",
     "text": [
      "Best max_leaf_nodes: 5\n",
      "Best max_depth: 3\n",
      "Best score: 0.22201353759725273\n"
     ]
    }
   ],
   "source": [
    "# use a pipeline with GridSearchCV to upsample inside cross-validating decision trees to find best parameters\n",
    "kf = StratifiedKFold(n_splits=10, random_state=0, shuffle=True)\n",
    "up_dt_pipeline = make_pipeline(SMOTE(random_state=0), DecisionTreeClassifier(random_state=0))\n",
    "dt_GS = GridSearchCV(up_dt_pipeline, param_grid=dt_params, cv=kf, scoring='f1', return_train_score=True)\n",
    "dt_GS.fit(X_train, y_train)\n",
    "\n",
    "best_max_leaf_nodes = dt_GS.best_estimator_.get_params()['decisiontreeclassifier__max_leaf_nodes']\n",
    "best_max_depth = dt_GS.best_estimator_.get_params()['decisiontreeclassifier__max_depth']\n",
    "best_score = dt_GS.best_score_\n",
    "\n",
    "print('Best max_leaf_nodes:', best_max_leaf_nodes)\n",
    "print('Best max_depth:', best_max_depth)\n",
    "print('Best score:', best_score)"
   ]
  },
  {
   "cell_type": "code",
   "execution_count": 188,
   "metadata": {},
   "outputs": [
    {
     "name": "stdout",
     "output_type": "stream",
     "text": [
      "Accuracy:    0.756360\n",
      "Precision:   0.155477\n",
      "Recall:      0.814815\n",
      "F1 score:    0.261128\n"
     ]
    }
   ],
   "source": [
    "dt_GS_preds = dt_GS.predict(X_test)\n",
    "print_metrics(y_test, dt_GS_preds)"
   ]
  },
  {
   "cell_type": "code",
   "execution_count": 72,
   "metadata": {},
   "outputs": [
    {
     "data": {
      "image/png": "[encoded data removed]",
      "text/plain": [
       "<Figure size 432x288 with 2 Axes>"
      ]
     },
     "metadata": {
      "needs_background": "light"
     },
     "output_type": "display_data"
    }
   ],
   "source": [
    "draw_confusion_matrix(y_test, dt_GS_preds, [\"No stroke\", \"Stroke\"])"
   ]
  },
  {
   "cell_type": "code",
   "execution_count": 54,
   "metadata": {},
   "outputs": [
    {
     "data": {
      "text/plain": [
       "DecisionTreeClassifier(max_depth=3, max_leaf_nodes=5, random_state=0)"
      ]
     },
     "execution_count": 54,
     "metadata": {},
     "output_type": "execute_result"
    }
   ],
   "source": [
    "best_params = {key.split('__')[1]: dt_GS.best_params_[key] for key in dt_GS.best_params_}\n",
    "dt_best = DecisionTreeClassifier(**best_params, random_state=0)\n",
    "dt_best"
   ]
  },
  {
   "cell_type": "markdown",
   "metadata": {},
   "source": [
    "### Bagging"
   ]
  },
  {
   "cell_type": "code",
   "execution_count": 55,
   "metadata": {},
   "outputs": [],
   "source": [
    "n_estimators_arr = np.linspace(1, 30, 30, endpoint=True).astype(int)\n",
    "\n",
    "bag_params = dict(n_estimators=n_estimators_arr)\n",
    "bag_params = {'baggingclassifier__' + key: bag_params[key] for key in bag_params}"
   ]
  },
  {
   "cell_type": "code",
   "execution_count": 56,
   "metadata": {},
   "outputs": [
    {
     "name": "stdout",
     "output_type": "stream",
     "text": [
      "Best n_estimators: 11\n",
      "Best score: 0.21999021738294627\n"
     ]
    }
   ],
   "source": [
    "kf = StratifiedKFold(n_splits=10, random_state=0, shuffle=True)\n",
    "up_bag_pipeline = make_pipeline(SMOTE(random_state=0), BaggingClassifier(base_estimator=dt_best, random_state=0))\n",
    "bag_GS = GridSearchCV(up_bag_pipeline, param_grid=bag_params, cv=kf, scoring='f1', return_train_score=True)\n",
    "bag_GS.fit(X_train, y_train)\n",
    "\n",
    "best_n_estimators = bag_GS.best_estimator_.get_params()['baggingclassifier__n_estimators']\n",
    "best_score = bag_GS.best_score_\n",
    "\n",
    "print('Best n_estimators:', best_n_estimators)\n",
    "print('Best score:', best_score)"
   ]
  },
  {
   "cell_type": "code",
   "execution_count": 57,
   "metadata": {},
   "outputs": [
    {
     "name": "stdout",
     "output_type": "stream",
     "text": [
      "Accuracy:    0.748532\n",
      "Precision:   0.151203\n",
      "Recall:      0.814815\n",
      "F1 score:    0.255072\n"
     ]
    }
   ],
   "source": [
    "bag_GS_preds = bag_GS.predict(X_test)\n",
    "print_metrics(y_test, bag_GS_preds)"
   ]
  },
  {
   "cell_type": "code",
   "execution_count": 73,
   "metadata": {},
   "outputs": [
    {
     "data": {
      "image/png": "[encoded data removed]",
      "text/plain": [
       "<Figure size 432x288 with 2 Axes>"
      ]
     },
     "metadata": {
      "needs_background": "light"
     },
     "output_type": "display_data"
    }
   ],
   "source": [
    "draw_confusion_matrix(y_test, bag_GS_preds, [\"No stroke\", \"Stroke\"])"
   ]
  },
  {
   "cell_type": "markdown",
   "metadata": {},
   "source": [
    "### Random forest"
   ]
  },
  {
   "cell_type": "code",
   "execution_count": 58,
   "metadata": {},
   "outputs": [],
   "source": [
    "n_estimators_arr = np.linspace(1, 30, 30, endpoint=True).astype(int)\n",
    "\n",
    "rf_params = dict(n_estimators=n_estimators_arr)\n",
    "rf_params = {'randomforestclassifier__' + key: rf_params[key] for key in rf_params}"
   ]
  },
  {
   "cell_type": "code",
   "execution_count": 59,
   "metadata": {},
   "outputs": [
    {
     "name": "stdout",
     "output_type": "stream",
     "text": [
      "Best n_estimators: 1\n",
      "Best score: 0.17675589427468347\n"
     ]
    }
   ],
   "source": [
    "kf = StratifiedKFold(n_splits=10, random_state=0, shuffle=True)\n",
    "up_rf_pipeline = make_pipeline(SMOTE(random_state=0), RandomForestClassifier(random_state=0))\n",
    "rf_GS = GridSearchCV(up_rf_pipeline, param_grid=rf_params, cv=kf, scoring='f1', return_train_score=True)\n",
    "rf_GS.fit(X_train, y_train)\n",
    "\n",
    "best_n_estimators = rf_GS.best_estimator_.get_params()['randomforestclassifier__n_estimators']\n",
    "best_score = rf_GS.best_score_\n",
    "\n",
    "print('Best n_estimators:', best_n_estimators)\n",
    "print('Best score:', best_score)"
   ]
  },
  {
   "cell_type": "code",
   "execution_count": 60,
   "metadata": {},
   "outputs": [
    {
     "name": "stdout",
     "output_type": "stream",
     "text": [
      "Accuracy:    0.857143\n",
      "Precision:   0.110169\n",
      "Recall:      0.240741\n",
      "F1 score:    0.151163\n"
     ]
    }
   ],
   "source": [
    "rf_GS_preds = rf_GS.predict(X_test)\n",
    "print_metrics(y_test, rf_GS_preds)"
   ]
  },
  {
   "cell_type": "code",
   "execution_count": 74,
   "metadata": {},
   "outputs": [
    {
     "data": {
      "image/png": "[encoded data removed]",
      "text/plain": [
       "<Figure size 432x288 with 2 Axes>"
      ]
     },
     "metadata": {
      "needs_background": "light"
     },
     "output_type": "display_data"
    }
   ],
   "source": [
    "draw_confusion_matrix(y_test, rf_GS_preds, [\"No stroke\", \"Stroke\"])"
   ]
  },
  {
   "cell_type": "markdown",
   "metadata": {},
   "source": [
    "### AdaBoost"
   ]
  },
  {
   "cell_type": "code",
   "execution_count": 61,
   "metadata": {},
   "outputs": [],
   "source": [
    "from sklearn.ensemble import AdaBoostClassifier\n",
    "\n",
    "n_estimators_arr = np.linspace(1, 30, 30, endpoint=True).astype(int)\n",
    "\n",
    "ada_params = dict(n_estimators=n_estimators_arr)\n",
    "ada_params = {'adaboostclassifier__' + key: ada_params[key] for key in ada_params}"
   ]
  },
  {
   "cell_type": "code",
   "execution_count": 62,
   "metadata": {},
   "outputs": [
    {
     "name": "stdout",
     "output_type": "stream",
     "text": [
      "Best n_estimators: 1\n",
      "Best score: 0.21566720284453136\n"
     ]
    }
   ],
   "source": [
    "kf = StratifiedKFold(n_splits=10, random_state=0, shuffle=True)\n",
    "up_ada_pipeline = make_pipeline(SMOTE(random_state=0), AdaBoostClassifier(base_estimator=dt_best, random_state=0))\n",
    "ada_GS = GridSearchCV(up_ada_pipeline, param_grid=ada_params, cv=kf, scoring='f1', return_train_score=True)\n",
    "ada_GS.fit(X_train, y_train)\n",
    "\n",
    "best_n_estimators = ada_GS.best_estimator_.get_params()['adaboostclassifier__n_estimators']\n",
    "best_score = ada_GS.best_score_\n",
    "\n",
    "print('Best n_estimators:', best_n_estimators)\n",
    "print('Best score:', best_score)"
   ]
  },
  {
   "cell_type": "code",
   "execution_count": 63,
   "metadata": {},
   "outputs": [
    {
     "name": "stdout",
     "output_type": "stream",
     "text": [
      "Accuracy:    0.756360\n",
      "Precision:   0.155477\n",
      "Recall:      0.814815\n",
      "F1 score:    0.261128\n"
     ]
    }
   ],
   "source": [
    "ada_GS_preds = ada_GS.predict(X_test)\n",
    "print_metrics(y_test, ada_GS_preds)"
   ]
  },
  {
   "cell_type": "code",
   "execution_count": 75,
   "metadata": {},
   "outputs": [
    {
     "data": {
      "image/png": "[encoded data removed]",
      "text/plain": [
       "<Figure size 432x288 with 2 Axes>"
      ]
     },
     "metadata": {
      "needs_background": "light"
     },
     "output_type": "display_data"
    }
   ],
   "source": [
    "draw_confusion_matrix(y_test, ada_GS_preds, [\"No stroke\", \"Stroke\"])"
   ]
  },
  {
   "cell_type": "markdown",
   "metadata": {},
   "source": [
    "## Neural network"
   ]
  },
  {
   "cell_type": "code",
   "execution_count": 46,
   "metadata": {},
   "outputs": [],
   "source": [
    "#hidden_layer_sizes_arr = np.linspace(16, 36, 3, endpoint=True).astype(int)\n",
    "#hidden_layer_sizes_arr = [(hidden_layer_sizes_arr[i], hidden_layer_sizes_arr[j]) for i in range(3) for j in range(3)]\n",
    "activation_arr = ['identity', 'logistic', 'tanh', 'relu']\n",
    "\n",
    "nn_params = dict(activation=activation_arr)\n",
    "nn_params = {'mlpclassifier__' + key: nn_params[key] for key in nn_params}"
   ]
  },
  {
   "cell_type": "code",
   "execution_count": 47,
   "metadata": {},
   "outputs": [
    {
     "name": "stdout",
     "output_type": "stream",
     "text": [
      "Iteration 1, loss = 0.95399281\n",
      "Iteration 2, loss = 0.71166885\n",
      "Iteration 3, loss = 0.58768072\n",
      "Iteration 4, loss = 0.52546667\n",
      "Iteration 5, loss = 0.49342172\n",
      "Iteration 6, loss = 0.47597434\n",
      "Iteration 7, loss = 0.46628724\n",
      "Iteration 8, loss = 0.46071757\n",
      "Iteration 9, loss = 0.45744315\n",
      "Iteration 10, loss = 0.45527257\n",
      "Iteration 11, loss = 0.45382598\n",
      "Iteration 12, loss = 0.45286208\n",
      "Iteration 13, loss = 0.45234975\n",
      "Iteration 14, loss = 0.45210839\n",
      "Iteration 15, loss = 0.45174061\n",
      "Iteration 16, loss = 0.45152019\n",
      "Iteration 17, loss = 0.45135074\n",
      "Iteration 18, loss = 0.45114394\n",
      "Iteration 19, loss = 0.45116840\n",
      "Iteration 20, loss = 0.45116463\n",
      "Iteration 21, loss = 0.45096824\n",
      "Iteration 22, loss = 0.45121618\n",
      "Iteration 23, loss = 0.45111752\n",
      "Iteration 24, loss = 0.45086604\n",
      "Iteration 25, loss = 0.45102877\n",
      "Iteration 26, loss = 0.45092824\n",
      "Iteration 27, loss = 0.45120324\n",
      "Iteration 28, loss = 0.45105575\n",
      "Iteration 29, loss = 0.45095964\n",
      "Iteration 30, loss = 0.45096055\n",
      "Iteration 31, loss = 0.45104240\n",
      "Iteration 32, loss = 0.45103679\n",
      "Iteration 33, loss = 0.45103479\n",
      "Iteration 34, loss = 0.45116245\n",
      "Iteration 35, loss = 0.45121881\n",
      "Training loss did not improve more than tol=0.000100 for 10 consecutive epochs. Stopping.\n",
      "Best activation: identity\n",
      "Best score: 0.22958644495145167\n"
     ]
    }
   ],
   "source": [
    "kf = StratifiedKFold(n_splits=10, random_state=0, shuffle=True)\n",
    "up_nn_pipeline = make_pipeline(SMOTE(random_state=0), MLPClassifier(hidden_layer_sizes=(16,),max_iter=2000, random_state=0, verbose=True))\n",
    "nn_GS = GridSearchCV(up_nn_pipeline, param_grid=nn_params, cv=kf, scoring='f1', return_train_score=True, n_jobs=-1)\n",
    "nn_GS.fit(X_train, y_train)\n",
    "\n",
    "#best_hidden_layer_sizes = nn_GS.best_estimator_.get_params()['mlpclassifier__hidden_layer_sizes']\n",
    "best_activation = nn_GS.best_estimator_.get_params()['mlpclassifier__activation']\n",
    "best_score = nn_GS.best_score_\n",
    "\n",
    "#print('Best hidden_layer_sizes:', best_hidden_layer_sizes)\n",
    "print('Best activation:', best_activation)\n",
    "print('Best score:', best_score)"
   ]
  },
  {
   "cell_type": "code",
   "execution_count": 64,
   "metadata": {},
   "outputs": [
    {
     "name": "stdout",
     "output_type": "stream",
     "text": [
      "Accuracy:    0.777886\n",
      "Precision:   0.149798\n",
      "Recall:      0.685185\n",
      "F1 score:    0.245847\n"
     ]
    }
   ],
   "source": [
    "nn_GS_preds = nn_GS.predict(X_test)\n",
    "print_metrics(y_test, nn_GS_preds)"
   ]
  },
  {
   "cell_type": "code",
   "execution_count": 76,
   "metadata": {},
   "outputs": [
    {
     "data": {
      "image/png": "[encoded data removed]",
      "text/plain": [
       "<Figure size 432x288 with 2 Axes>"
      ]
     },
     "metadata": {
      "needs_background": "light"
     },
     "output_type": "display_data"
    }
   ],
   "source": [
    "draw_confusion_matrix(y_test, nn_GS_preds, [\"No stroke\", \"Stroke\"])"
   ]
  },
  {
   "cell_type": "markdown",
   "metadata": {},
   "source": [
    "## Custom models"
   ]
  },
  {
   "cell_type": "markdown",
   "metadata": {},
   "source": [
    "### KNN Classifier"
   ]
  },
  {
   "cell_type": "code",
   "execution_count": 65,
   "metadata": {},
   "outputs": [],
   "source": [
    "n_neighbors_arr = np.linspace(5, 100, 20, endpoint=True).astype(int)\n",
    "\n",
    "knn_params = dict(n_neighbors=n_neighbors_arr)\n",
    "knn_params = {'kneighborsclassifier__' + key: knn_params[key] for key in knn_params}"
   ]
  },
  {
   "cell_type": "code",
   "execution_count": 185,
   "metadata": {},
   "outputs": [
    {
     "name": "stdout",
     "output_type": "stream",
     "text": [
      "Best n_neighbors: 30\n",
      "Best score: 0.21024315377857378\n"
     ]
    }
   ],
   "source": [
    "kf = StratifiedKFold(n_splits=10, random_state=0, shuffle=True)\n",
    "up_knn_pipeline = make_pipeline(SMOTE(random_state=0), KNeighborsClassifier())\n",
    "knn_GS = GridSearchCV(up_knn_pipeline, param_grid=knn_params, cv=kf, scoring='f1', return_train_score=True)\n",
    "knn_GS.fit(X_train, y_train)\n",
    "\n",
    "best_n_neighbors = knn_GS.best_estimator_.get_params()['kneighborsclassifier__n_neighbors']\n",
    "best_score = knn_GS.best_score_\n",
    "\n",
    "print('Best n_neighbors:', best_n_neighbors)\n",
    "print('Best score:', best_score)"
   ]
  },
  {
   "cell_type": "code",
   "execution_count": 186,
   "metadata": {},
   "outputs": [
    {
     "name": "stdout",
     "output_type": "stream",
     "text": [
      "Accuracy:    0.741683\n",
      "Precision:   0.125000\n",
      "Recall:      0.648148\n",
      "F1 score:    0.209581\n"
     ]
    }
   ],
   "source": [
    "knn_GS_preds = knn_GS.predict(X_test)\n",
    "print_metrics(y_test, knn_GS_preds)"
   ]
  },
  {
   "cell_type": "code",
   "execution_count": 67,
   "metadata": {},
   "outputs": [
    {
     "name": "stdout",
     "output_type": "stream",
     "text": [
      "Accuracy:    0.734834\n",
      "Precision:   0.121951\n",
      "Recall:      0.648148\n",
      "F1 score:    0.205279\n"
     ]
    }
   ],
   "source": [
    "knn_GS_preds = knn_GS.predict(X_test)\n",
    "print_metrics(y_test, knn_GS_preds)"
   ]
  },
  {
   "cell_type": "code",
   "execution_count": 77,
   "metadata": {},
   "outputs": [
    {
     "data": {
      "image/png": "[encoded data removed]",
      "text/plain": [
       "<Figure size 432x288 with 2 Axes>"
      ]
     },
     "metadata": {
      "needs_background": "light"
     },
     "output_type": "display_data"
    }
   ],
   "source": [
    "draw_confusion_matrix(y_test, knn_GS_preds, [\"No stroke\", \"Stroke\"])"
   ]
  },
  {
   "cell_type": "markdown",
   "metadata": {},
   "source": [
    "### SVM"
   ]
  },
  {
   "cell_type": "code",
   "execution_count": 68,
   "metadata": {},
   "outputs": [],
   "source": [
    "kernel_arr = ['linear', 'poly', 'rbf', 'sigmoid']\n",
    "\n",
    "svm_params = dict(kernel=kernel_arr)\n",
    "svm_params = {'svc__' + key: svm_params[key] for key in svm_params}"
   ]
  },
  {
   "cell_type": "code",
   "execution_count": 69,
   "metadata": {},
   "outputs": [
    {
     "name": "stdout",
     "output_type": "stream",
     "text": [
      "Best kernel: linear\n",
      "Best score: 0.23129667922918745\n"
     ]
    }
   ],
   "source": [
    "# use a pipeline with GridSearchCV to upsample inside cross-validating decision trees to find best parameters\n",
    "kf = StratifiedKFold(n_splits=10, random_state=0, shuffle=True)\n",
    "up_svm_pipeline = make_pipeline(SMOTE(random_state=0), SVC(random_state=0))\n",
    "svm_GS = GridSearchCV(up_svm_pipeline, param_grid=svm_params, cv=kf, scoring='f1', return_train_score=True)\n",
    "svm_GS.fit(X_train, y_train)\n",
    "\n",
    "best_kernel = svm_GS.best_estimator_.get_params()['svc__kernel']\n",
    "best_score = svm_GS.best_score_\n",
    "\n",
    "print('Best kernel:', best_kernel)\n",
    "print('Best score:', best_score)"
   ]
  },
  {
   "cell_type": "code",
   "execution_count": 70,
   "metadata": {},
   "outputs": [
    {
     "name": "stdout",
     "output_type": "stream",
     "text": [
      "Accuracy:    0.767123\n",
      "Precision:   0.146154\n",
      "Recall:      0.703704\n",
      "F1 score:    0.242038\n"
     ]
    }
   ],
   "source": [
    "svm_GS_preds = svm_GS.predict(X_test)\n",
    "print_metrics(y_test, svm_GS_preds)"
   ]
  },
  {
   "cell_type": "code",
   "execution_count": 78,
   "metadata": {},
   "outputs": [
    {
     "data": {
      "image/png": "[encoded data removed]",
      "text/plain": [
       "<Figure size 432x288 with 2 Axes>"
      ]
     },
     "metadata": {
      "needs_background": "light"
     },
     "output_type": "display_data"
    }
   ],
   "source": [
    "draw_confusion_matrix(y_test, svm_GS_preds, [\"No stroke\", \"Stroke\"])"
   ]
  }
 ],
 "metadata": {
  "kernelspec": {
   "display_name": "Python 3",
   "language": "python",
   "name": "python3"
  },
  "language_info": {
   "codemirror_mode": {
    "name": "ipython",
    "version": 3
   },
   "file_extension": ".py",
   "mimetype": "text/x-python",
   "name": "python",
   "nbconvert_exporter": "python",
   "pygments_lexer": "ipython3",
   "version": "3.8.3"
  },
  "toc-autonumbering": false
 },
 "nbformat": 4,
 "nbformat_minor": 4
}
